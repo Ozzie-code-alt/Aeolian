{
 "cells": [
  {
   "cell_type": "code",
   "execution_count": 80,
   "metadata": {
    "id": "igMyGnjE9hEp"
   },
   "outputs": [
    {
     "name": "stdout",
     "output_type": "stream",
     "text": [
      "Requirement already satisfied: tensorflow in c:\\users\\justin santos\\desktop\\aeolian\\venv\\lib\\site-packages (2.12.0)\n",
      "Requirement already satisfied: tensorflow-intel==2.12.0 in c:\\users\\justin santos\\desktop\\aeolian\\venv\\lib\\site-packages (from tensorflow) (2.12.0)\n",
      "Requirement already satisfied: absl-py>=1.0.0 in c:\\users\\justin santos\\desktop\\aeolian\\venv\\lib\\site-packages (from tensorflow-intel==2.12.0->tensorflow) (1.4.0)\n",
      "Requirement already satisfied: astunparse>=1.6.0 in c:\\users\\justin santos\\desktop\\aeolian\\venv\\lib\\site-packages (from tensorflow-intel==2.12.0->tensorflow) (1.6.3)\n",
      "Requirement already satisfied: flatbuffers>=2.0 in c:\\users\\justin santos\\desktop\\aeolian\\venv\\lib\\site-packages (from tensorflow-intel==2.12.0->tensorflow) (23.5.26)\n",
      "Requirement already satisfied: gast<=0.4.0,>=0.2.1 in c:\\users\\justin santos\\desktop\\aeolian\\venv\\lib\\site-packages (from tensorflow-intel==2.12.0->tensorflow) (0.4.0)\n",
      "Requirement already satisfied: google-pasta>=0.1.1 in c:\\users\\justin santos\\desktop\\aeolian\\venv\\lib\\site-packages (from tensorflow-intel==2.12.0->tensorflow) (0.2.0)\n",
      "Requirement already satisfied: h5py>=2.9.0 in c:\\users\\justin santos\\desktop\\aeolian\\venv\\lib\\site-packages (from tensorflow-intel==2.12.0->tensorflow) (3.9.0)\n",
      "Requirement already satisfied: jax>=0.3.15 in c:\\users\\justin santos\\desktop\\aeolian\\venv\\lib\\site-packages (from tensorflow-intel==2.12.0->tensorflow) (0.4.13)\n",
      "Requirement already satisfied: libclang>=13.0.0 in c:\\users\\justin santos\\desktop\\aeolian\\venv\\lib\\site-packages (from tensorflow-intel==2.12.0->tensorflow) (16.0.0)\n",
      "Requirement already satisfied: numpy<1.24,>=1.22 in c:\\users\\justin santos\\desktop\\aeolian\\venv\\lib\\site-packages (from tensorflow-intel==2.12.0->tensorflow) (1.23.5)\n",
      "Requirement already satisfied: opt-einsum>=2.3.2 in c:\\users\\justin santos\\desktop\\aeolian\\venv\\lib\\site-packages (from tensorflow-intel==2.12.0->tensorflow) (3.3.0)\n",
      "Requirement already satisfied: packaging in c:\\users\\justin santos\\desktop\\aeolian\\venv\\lib\\site-packages (from tensorflow-intel==2.12.0->tensorflow) (23.1)\n",
      "Requirement already satisfied: protobuf!=4.21.0,!=4.21.1,!=4.21.2,!=4.21.3,!=4.21.4,!=4.21.5,<5.0.0dev,>=3.20.3 in c:\\users\\justin santos\\desktop\\aeolian\\venv\\lib\\site-packages (from tensorflow-intel==2.12.0->tensorflow) (3.20.3)\n",
      "Requirement already satisfied: setuptools in c:\\users\\justin santos\\desktop\\aeolian\\venv\\lib\\site-packages (from tensorflow-intel==2.12.0->tensorflow) (67.7.2)\n",
      "Requirement already satisfied: six>=1.12.0 in c:\\users\\justin santos\\desktop\\aeolian\\venv\\lib\\site-packages (from tensorflow-intel==2.12.0->tensorflow) (1.16.0)\n",
      "Requirement already satisfied: termcolor>=1.1.0 in c:\\users\\justin santos\\desktop\\aeolian\\venv\\lib\\site-packages (from tensorflow-intel==2.12.0->tensorflow) (2.3.0)\n",
      "Requirement already satisfied: typing-extensions>=3.6.6 in c:\\users\\justin santos\\desktop\\aeolian\\venv\\lib\\site-packages (from tensorflow-intel==2.12.0->tensorflow) (4.7.0)\n",
      "Requirement already satisfied: wrapt<1.15,>=1.11.0 in c:\\users\\justin santos\\desktop\\aeolian\\venv\\lib\\site-packages (from tensorflow-intel==2.12.0->tensorflow) (1.14.1)\n",
      "Requirement already satisfied: grpcio<2.0,>=1.24.3 in c:\\users\\justin santos\\desktop\\aeolian\\venv\\lib\\site-packages (from tensorflow-intel==2.12.0->tensorflow) (1.56.0)\n",
      "Requirement already satisfied: tensorboard<2.13,>=2.12 in c:\\users\\justin santos\\desktop\\aeolian\\venv\\lib\\site-packages (from tensorflow-intel==2.12.0->tensorflow) (2.12.3)\n",
      "Requirement already satisfied: tensorflow-estimator<2.13,>=2.12.0 in c:\\users\\justin santos\\desktop\\aeolian\\venv\\lib\\site-packages (from tensorflow-intel==2.12.0->tensorflow) (2.12.0)\n",
      "Requirement already satisfied: keras<2.13,>=2.12.0 in c:\\users\\justin santos\\desktop\\aeolian\\venv\\lib\\site-packages (from tensorflow-intel==2.12.0->tensorflow) (2.12.0)\n",
      "Requirement already satisfied: tensorflow-io-gcs-filesystem>=0.23.1 in c:\\users\\justin santos\\desktop\\aeolian\\venv\\lib\\site-packages (from tensorflow-intel==2.12.0->tensorflow) (0.31.0)\n",
      "Requirement already satisfied: wheel<1.0,>=0.23.0 in c:\\users\\justin santos\\desktop\\aeolian\\venv\\lib\\site-packages (from astunparse>=1.6.0->tensorflow-intel==2.12.0->tensorflow) (0.40.0)\n",
      "Requirement already satisfied: ml-dtypes>=0.1.0 in c:\\users\\justin santos\\desktop\\aeolian\\venv\\lib\\site-packages (from jax>=0.3.15->tensorflow-intel==2.12.0->tensorflow) (0.2.0)\n",
      "Requirement already satisfied: scipy>=1.7 in c:\\users\\justin santos\\desktop\\aeolian\\venv\\lib\\site-packages (from jax>=0.3.15->tensorflow-intel==2.12.0->tensorflow) (1.11.1)\n",
      "Requirement already satisfied: google-auth<3,>=1.6.3 in c:\\users\\justin santos\\desktop\\aeolian\\venv\\lib\\site-packages (from tensorboard<2.13,>=2.12->tensorflow-intel==2.12.0->tensorflow) (2.21.0)\n",
      "Requirement already satisfied: google-auth-oauthlib<1.1,>=0.5 in c:\\users\\justin santos\\desktop\\aeolian\\venv\\lib\\site-packages (from tensorboard<2.13,>=2.12->tensorflow-intel==2.12.0->tensorflow) (1.0.0)\n",
      "Requirement already satisfied: markdown>=2.6.8 in c:\\users\\justin santos\\desktop\\aeolian\\venv\\lib\\site-packages (from tensorboard<2.13,>=2.12->tensorflow-intel==2.12.0->tensorflow) (3.4.3)\n",
      "Requirement already satisfied: requests<3,>=2.21.0 in c:\\users\\justin santos\\desktop\\aeolian\\venv\\lib\\site-packages (from tensorboard<2.13,>=2.12->tensorflow-intel==2.12.0->tensorflow) (2.31.0)\n",
      "Requirement already satisfied: tensorboard-data-server<0.8.0,>=0.7.0 in c:\\users\\justin santos\\desktop\\aeolian\\venv\\lib\\site-packages (from tensorboard<2.13,>=2.12->tensorflow-intel==2.12.0->tensorflow) (0.7.1)\n",
      "Requirement already satisfied: werkzeug>=1.0.1 in c:\\users\\justin santos\\desktop\\aeolian\\venv\\lib\\site-packages (from tensorboard<2.13,>=2.12->tensorflow-intel==2.12.0->tensorflow) (2.3.6)\n",
      "Requirement already satisfied: cachetools<6.0,>=2.0.0 in c:\\users\\justin santos\\desktop\\aeolian\\venv\\lib\\site-packages (from google-auth<3,>=1.6.3->tensorboard<2.13,>=2.12->tensorflow-intel==2.12.0->tensorflow) (5.3.1)\n",
      "Requirement already satisfied: pyasn1-modules>=0.2.1 in c:\\users\\justin santos\\desktop\\aeolian\\venv\\lib\\site-packages (from google-auth<3,>=1.6.3->tensorboard<2.13,>=2.12->tensorflow-intel==2.12.0->tensorflow) (0.3.0)\n",
      "Requirement already satisfied: rsa<5,>=3.1.4 in c:\\users\\justin santos\\desktop\\aeolian\\venv\\lib\\site-packages (from google-auth<3,>=1.6.3->tensorboard<2.13,>=2.12->tensorflow-intel==2.12.0->tensorflow) (4.9)\n",
      "Requirement already satisfied: urllib3<2.0 in c:\\users\\justin santos\\desktop\\aeolian\\venv\\lib\\site-packages (from google-auth<3,>=1.6.3->tensorboard<2.13,>=2.12->tensorflow-intel==2.12.0->tensorflow) (1.26.16)\n",
      "Requirement already satisfied: requests-oauthlib>=0.7.0 in c:\\users\\justin santos\\desktop\\aeolian\\venv\\lib\\site-packages (from google-auth-oauthlib<1.1,>=0.5->tensorboard<2.13,>=2.12->tensorflow-intel==2.12.0->tensorflow) (1.3.1)\n",
      "Requirement already satisfied: charset-normalizer<4,>=2 in c:\\users\\justin santos\\desktop\\aeolian\\venv\\lib\\site-packages (from requests<3,>=2.21.0->tensorboard<2.13,>=2.12->tensorflow-intel==2.12.0->tensorflow) (3.1.0)\n",
      "Requirement already satisfied: idna<4,>=2.5 in c:\\users\\justin santos\\desktop\\aeolian\\venv\\lib\\site-packages (from requests<3,>=2.21.0->tensorboard<2.13,>=2.12->tensorflow-intel==2.12.0->tensorflow) (3.4)\n",
      "Requirement already satisfied: certifi>=2017.4.17 in c:\\users\\justin santos\\desktop\\aeolian\\venv\\lib\\site-packages (from requests<3,>=2.21.0->tensorboard<2.13,>=2.12->tensorflow-intel==2.12.0->tensorflow) (2023.5.7)\n",
      "Requirement already satisfied: MarkupSafe>=2.1.1 in c:\\users\\justin santos\\desktop\\aeolian\\venv\\lib\\site-packages (from werkzeug>=1.0.1->tensorboard<2.13,>=2.12->tensorflow-intel==2.12.0->tensorflow) (2.1.3)\n",
      "Requirement already satisfied: pyasn1<0.6.0,>=0.4.6 in c:\\users\\justin santos\\desktop\\aeolian\\venv\\lib\\site-packages (from pyasn1-modules>=0.2.1->google-auth<3,>=1.6.3->tensorboard<2.13,>=2.12->tensorflow-intel==2.12.0->tensorflow) (0.5.0)\n",
      "Requirement already satisfied: oauthlib>=3.0.0 in c:\\users\\justin santos\\desktop\\aeolian\\venv\\lib\\site-packages (from requests-oauthlib>=0.7.0->google-auth-oauthlib<1.1,>=0.5->tensorboard<2.13,>=2.12->tensorflow-intel==2.12.0->tensorflow) (3.2.2)\n",
      "Note: you may need to restart the kernel to use updated packages.\n"
     ]
    },
    {
     "name": "stderr",
     "output_type": "stream",
     "text": [
      "\n",
      "[notice] A new release of pip is available: 23.1.2 -> 23.3.1\n",
      "[notice] To update, run: python.exe -m pip install --upgrade pip\n"
     ]
    },
    {
     "name": "stdout",
     "output_type": "stream",
     "text": [
      "Requirement already satisfied: scikit-learn in c:\\users\\justin santos\\desktop\\aeolian\\venv\\lib\\site-packages (1.3.0)\n",
      "Requirement already satisfied: numpy>=1.17.3 in c:\\users\\justin santos\\desktop\\aeolian\\venv\\lib\\site-packages (from scikit-learn) (1.23.5)\n",
      "Requirement already satisfied: scipy>=1.5.0 in c:\\users\\justin santos\\desktop\\aeolian\\venv\\lib\\site-packages (from scikit-learn) (1.11.1)\n",
      "Requirement already satisfied: joblib>=1.1.1 in c:\\users\\justin santos\\desktop\\aeolian\\venv\\lib\\site-packages (from scikit-learn) (1.3.0)\n",
      "Requirement already satisfied: threadpoolctl>=2.0.0 in c:\\users\\justin santos\\desktop\\aeolian\\venv\\lib\\site-packages (from scikit-learn) (3.2.0)\n",
      "Note: you may need to restart the kernel to use updated packages.\n"
     ]
    },
    {
     "name": "stderr",
     "output_type": "stream",
     "text": [
      "\n",
      "[notice] A new release of pip is available: 23.1.2 -> 23.3.1\n",
      "[notice] To update, run: python.exe -m pip install --upgrade pip\n"
     ]
    },
    {
     "name": "stdout",
     "output_type": "stream",
     "text": [
      "Requirement already satisfied: pandas in c:\\users\\justin santos\\desktop\\aeolian\\venv\\lib\\site-packages (2.1.0)\n",
      "Requirement already satisfied: numpy>=1.22.4 in c:\\users\\justin santos\\desktop\\aeolian\\venv\\lib\\site-packages (from pandas) (1.23.5)\n",
      "Requirement already satisfied: python-dateutil>=2.8.2 in c:\\users\\justin santos\\desktop\\aeolian\\venv\\lib\\site-packages (from pandas) (2.8.2)\n",
      "Requirement already satisfied: pytz>=2020.1 in c:\\users\\justin santos\\desktop\\aeolian\\venv\\lib\\site-packages (from pandas) (2023.3)\n",
      "Requirement already satisfied: tzdata>=2022.1 in c:\\users\\justin santos\\desktop\\aeolian\\venv\\lib\\site-packages (from pandas) (2023.3)\n",
      "Requirement already satisfied: six>=1.5 in c:\\users\\justin santos\\desktop\\aeolian\\venv\\lib\\site-packages (from python-dateutil>=2.8.2->pandas) (1.16.0)\n",
      "Note: you may need to restart the kernel to use updated packages.\n"
     ]
    },
    {
     "name": "stderr",
     "output_type": "stream",
     "text": [
      "\n",
      "[notice] A new release of pip is available: 23.1.2 -> 23.3.1\n",
      "[notice] To update, run: python.exe -m pip install --upgrade pip\n"
     ]
    },
    {
     "name": "stdout",
     "output_type": "stream",
     "text": [
      "Requirement already satisfied: seaborn in c:\\users\\justin santos\\desktop\\aeolian\\venv\\lib\\site-packages (0.12.2)\n",
      "Requirement already satisfied: numpy!=1.24.0,>=1.17 in c:\\users\\justin santos\\desktop\\aeolian\\venv\\lib\\site-packages (from seaborn) (1.23.5)\n",
      "Requirement already satisfied: pandas>=0.25 in c:\\users\\justin santos\\desktop\\aeolian\\venv\\lib\\site-packages (from seaborn) (2.1.0)\n",
      "Requirement already satisfied: matplotlib!=3.6.1,>=3.1 in c:\\users\\justin santos\\desktop\\aeolian\\venv\\lib\\site-packages (from seaborn) (3.7.1)\n",
      "Requirement already satisfied: contourpy>=1.0.1 in c:\\users\\justin santos\\desktop\\aeolian\\venv\\lib\\site-packages (from matplotlib!=3.6.1,>=3.1->seaborn) (1.1.0)\n",
      "Requirement already satisfied: cycler>=0.10 in c:\\users\\justin santos\\desktop\\aeolian\\venv\\lib\\site-packages (from matplotlib!=3.6.1,>=3.1->seaborn) (0.11.0)\n",
      "Requirement already satisfied: fonttools>=4.22.0 in c:\\users\\justin santos\\desktop\\aeolian\\venv\\lib\\site-packages (from matplotlib!=3.6.1,>=3.1->seaborn) (4.40.0)\n",
      "Requirement already satisfied: kiwisolver>=1.0.1 in c:\\users\\justin santos\\desktop\\aeolian\\venv\\lib\\site-packages (from matplotlib!=3.6.1,>=3.1->seaborn) (1.4.4)\n",
      "Requirement already satisfied: packaging>=20.0 in c:\\users\\justin santos\\desktop\\aeolian\\venv\\lib\\site-packages (from matplotlib!=3.6.1,>=3.1->seaborn) (23.1)\n",
      "Requirement already satisfied: pillow>=6.2.0 in c:\\users\\justin santos\\desktop\\aeolian\\venv\\lib\\site-packages (from matplotlib!=3.6.1,>=3.1->seaborn) (9.5.0)\n",
      "Requirement already satisfied: pyparsing>=2.3.1 in c:\\users\\justin santos\\desktop\\aeolian\\venv\\lib\\site-packages (from matplotlib!=3.6.1,>=3.1->seaborn) (3.1.0)\n",
      "Requirement already satisfied: python-dateutil>=2.7 in c:\\users\\justin santos\\desktop\\aeolian\\venv\\lib\\site-packages (from matplotlib!=3.6.1,>=3.1->seaborn) (2.8.2)\n",
      "Requirement already satisfied: pytz>=2020.1 in c:\\users\\justin santos\\desktop\\aeolian\\venv\\lib\\site-packages (from pandas>=0.25->seaborn) (2023.3)\n",
      "Requirement already satisfied: tzdata>=2022.1 in c:\\users\\justin santos\\desktop\\aeolian\\venv\\lib\\site-packages (from pandas>=0.25->seaborn) (2023.3)\n",
      "Requirement already satisfied: six>=1.5 in c:\\users\\justin santos\\desktop\\aeolian\\venv\\lib\\site-packages (from python-dateutil>=2.7->matplotlib!=3.6.1,>=3.1->seaborn) (1.16.0)\n",
      "Note: you may need to restart the kernel to use updated packages.\n"
     ]
    },
    {
     "name": "stderr",
     "output_type": "stream",
     "text": [
      "\n",
      "[notice] A new release of pip is available: 23.1.2 -> 23.3.1\n",
      "[notice] To update, run: python.exe -m pip install --upgrade pip\n"
     ]
    }
   ],
   "source": [
    "%pip install tensorflow\n",
    "%pip install scikit-learn\n",
    "%pip install pandas\n",
    "%pip install seaborn\n",
    "import csv\n",
    "\n",
    "import numpy as np\n",
    "import tensorflow as tf\n",
    "from sklearn.model_selection import train_test_split\n",
    "\n",
    "RANDOM_SEED = 42"
   ]
  },
  {
   "cell_type": "markdown",
   "metadata": {
    "id": "t2HDvhIu9hEr"
   },
   "source": [
    "# Specify each path"
   ]
  },
  {
   "cell_type": "code",
   "execution_count": 81,
   "metadata": {
    "id": "9NvZP2Zn9hEy"
   },
   "outputs": [],
   "source": [
    "dataset = 'model/keypoint_classifier/keypoint.csv'\n",
    "model_save_path = 'model/keypoint_classifier/keypoint_classifier.hdf5'\n",
    "tflite_save_path = 'model/keypoint_classifier/keypoint_classifier.tflite'"
   ]
  },
  {
   "cell_type": "markdown",
   "metadata": {
    "id": "s5oMH7x19hEz"
   },
   "source": [
    "# Set number of classes"
   ]
  },
  {
   "cell_type": "code",
   "execution_count": 82,
   "metadata": {
    "id": "du4kodXL9hEz"
   },
   "outputs": [],
   "source": [
    "NUM_CLASSES = 9"
   ]
  },
  {
   "cell_type": "markdown",
   "metadata": {
    "id": "XjnL0uso9hEz"
   },
   "source": [
    "# Dataset reading"
   ]
  },
  {
   "cell_type": "code",
   "execution_count": 83,
   "metadata": {
    "id": "QT5ZqtEz9hE0"
   },
   "outputs": [],
   "source": [
    "X_dataset = np.loadtxt(dataset, delimiter=',', dtype='float32', usecols=list(range(1, (21 * 2) + 1)))"
   ]
  },
  {
   "cell_type": "code",
   "execution_count": 84,
   "metadata": {
    "id": "QmoKFsp49hE0"
   },
   "outputs": [],
   "source": [
    "y_dataset = np.loadtxt(dataset, delimiter=',', dtype='int32', usecols=(0))"
   ]
  },
  {
   "cell_type": "code",
   "execution_count": 85,
   "metadata": {
    "id": "xQU7JTZ_9hE0"
   },
   "outputs": [],
   "source": [
    "X_train, X_test, y_train, y_test = train_test_split(X_dataset, y_dataset, train_size=0.75, random_state=RANDOM_SEED)"
   ]
  },
  {
   "cell_type": "markdown",
   "metadata": {
    "id": "mxK_lETT9hE0"
   },
   "source": [
    "# Model building"
   ]
  },
  {
   "cell_type": "code",
   "execution_count": 86,
   "metadata": {
    "id": "vHBmUf1t9hE1"
   },
   "outputs": [],
   "source": [
    "model = tf.keras.models.Sequential([\n",
    "    tf.keras.layers.Input((21 * 2, )),\n",
    "    tf.keras.layers.Dropout(0.2),\n",
    "    tf.keras.layers.Dense(20, activation='relu'),\n",
    "    tf.keras.layers.Dropout(0.4),\n",
    "    tf.keras.layers.Dense(10, activation='relu'),\n",
    "    tf.keras.layers.Dense(NUM_CLASSES, activation='softmax')\n",
    "])"
   ]
  },
  {
   "cell_type": "code",
   "execution_count": 87,
   "metadata": {
    "colab": {
     "base_uri": "https://localhost:8080/"
    },
    "id": "ypqky9tc9hE1",
    "outputId": "5db082bb-30e3-4110-bf63-a1ee777ecd46"
   },
   "outputs": [
    {
     "name": "stdout",
     "output_type": "stream",
     "text": [
      "Model: \"sequential_4\"\n",
      "_________________________________________________________________\n",
      " Layer (type)                Output Shape              Param #   \n",
      "=================================================================\n",
      " dropout_8 (Dropout)         (None, 42)                0         \n",
      "                                                                 \n",
      " dense_12 (Dense)            (None, 20)                860       \n",
      "                                                                 \n",
      " dropout_9 (Dropout)         (None, 20)                0         \n",
      "                                                                 \n",
      " dense_13 (Dense)            (None, 10)                210       \n",
      "                                                                 \n",
      " dense_14 (Dense)            (None, 9)                 99        \n",
      "                                                                 \n",
      "=================================================================\n",
      "Total params: 1,169\n",
      "Trainable params: 1,169\n",
      "Non-trainable params: 0\n",
      "_________________________________________________________________\n"
     ]
    }
   ],
   "source": [
    "model.summary()  # tf.keras.utils.plot_model(model, show_shapes=True)"
   ]
  },
  {
   "cell_type": "code",
   "execution_count": 88,
   "metadata": {
    "id": "MbMjOflQ9hE1"
   },
   "outputs": [],
   "source": [
    "# Model checkpoint callback\n",
    "cp_callback = tf.keras.callbacks.ModelCheckpoint(\n",
    "    model_save_path, verbose=1, save_weights_only=False)\n",
    "# Callback for early stopping\n",
    "es_callback = tf.keras.callbacks.EarlyStopping(patience=20, verbose=1)"
   ]
  },
  {
   "cell_type": "code",
   "execution_count": 89,
   "metadata": {
    "id": "c3Dac0M_9hE2"
   },
   "outputs": [],
   "source": [
    "# Model compilation\n",
    "model.compile(\n",
    "    optimizer='adam',\n",
    "    loss='sparse_categorical_crossentropy',\n",
    "    metrics=['accuracy']\n",
    ")"
   ]
  },
  {
   "cell_type": "markdown",
   "metadata": {
    "id": "7XI0j1Iu9hE2"
   },
   "source": [
    "# Model training"
   ]
  },
  {
   "cell_type": "code",
   "execution_count": 90,
   "metadata": {
    "colab": {
     "base_uri": "https://localhost:8080/"
    },
    "id": "WirBl-JE9hE3",
    "outputId": "71b30ca2-8294-4d9d-8aa2-800d90d399de",
    "scrolled": true
   },
   "outputs": [
    {
     "name": "stdout",
     "output_type": "stream",
     "text": [
      "Epoch 1/1000\n",
      "35/45 [======================>.......] - ETA: 0s - loss: 2.1033 - accuracy: 0.2772 \n",
      "Epoch 1: saving model to model/keypoint_classifier\\keypoint_classifier.hdf5\n",
      "45/45 [==============================] - 1s 5ms/step - loss: 2.0947 - accuracy: 0.2701 - val_loss: 1.9774 - val_accuracy: 0.2790\n",
      "Epoch 2/1000\n",
      "33/45 [=====================>........] - ETA: 0s - loss: 1.9360 - accuracy: 0.2779\n",
      "Epoch 2: saving model to model/keypoint_classifier\\keypoint_classifier.hdf5\n",
      "45/45 [==============================] - 0s 3ms/step - loss: 1.9229 - accuracy: 0.2825 - val_loss: 1.7974 - val_accuracy: 0.3838\n",
      "Epoch 3/1000\n",
      "31/45 [===================>..........] - ETA: 0s - loss: 1.8254 - accuracy: 0.3168\n",
      "Epoch 3: saving model to model/keypoint_classifier\\keypoint_classifier.hdf5\n",
      "45/45 [==============================] - 0s 3ms/step - loss: 1.8078 - accuracy: 0.3180 - val_loss: 1.6732 - val_accuracy: 0.4394\n",
      "Epoch 4/1000\n",
      "35/45 [======================>.......] - ETA: 0s - loss: 1.7160 - accuracy: 0.3516\n",
      "Epoch 4: saving model to model/keypoint_classifier\\keypoint_classifier.hdf5\n",
      "45/45 [==============================] - 0s 3ms/step - loss: 1.7118 - accuracy: 0.3492 - val_loss: 1.5499 - val_accuracy: 0.4950\n",
      "Epoch 5/1000\n",
      "35/45 [======================>.......] - ETA: 0s - loss: 1.6301 - accuracy: 0.3754\n",
      "Epoch 5: saving model to model/keypoint_classifier\\keypoint_classifier.hdf5\n",
      "45/45 [==============================] - 0s 3ms/step - loss: 1.6146 - accuracy: 0.3784 - val_loss: 1.4344 - val_accuracy: 0.5405\n",
      "Epoch 6/1000\n",
      "29/45 [==================>...........] - ETA: 0s - loss: 1.5357 - accuracy: 0.4057\n",
      "Epoch 6: saving model to model/keypoint_classifier\\keypoint_classifier.hdf5\n",
      "45/45 [==============================] - 0s 3ms/step - loss: 1.5332 - accuracy: 0.4034 - val_loss: 1.3218 - val_accuracy: 0.5622\n",
      "Epoch 7/1000\n",
      "35/45 [======================>.......] - ETA: 0s - loss: 1.4756 - accuracy: 0.4196\n",
      "Epoch 7: saving model to model/keypoint_classifier\\keypoint_classifier.hdf5\n",
      "45/45 [==============================] - 0s 3ms/step - loss: 1.4659 - accuracy: 0.4260 - val_loss: 1.2222 - val_accuracy: 0.5701\n",
      "Epoch 8/1000\n",
      "33/45 [=====================>........] - ETA: 0s - loss: 1.4144 - accuracy: 0.4358\n",
      "Epoch 8: saving model to model/keypoint_classifier\\keypoint_classifier.hdf5\n",
      "45/45 [==============================] - 0s 3ms/step - loss: 1.3988 - accuracy: 0.4410 - val_loss: 1.1325 - val_accuracy: 0.6194\n",
      "Epoch 9/1000\n",
      "33/45 [=====================>........] - ETA: 0s - loss: 1.3288 - accuracy: 0.4652\n",
      "Epoch 9: saving model to model/keypoint_classifier\\keypoint_classifier.hdf5\n",
      "45/45 [==============================] - 0s 3ms/step - loss: 1.3205 - accuracy: 0.4712 - val_loss: 1.0574 - val_accuracy: 0.6210\n",
      "Epoch 10/1000\n",
      "26/45 [================>.............] - ETA: 0s - loss: 1.2752 - accuracy: 0.4796\n",
      "Epoch 10: saving model to model/keypoint_classifier\\keypoint_classifier.hdf5\n",
      "45/45 [==============================] - 0s 3ms/step - loss: 1.2846 - accuracy: 0.4726 - val_loss: 0.9925 - val_accuracy: 0.6591\n",
      "Epoch 11/1000\n",
      "37/45 [=======================>......] - ETA: 0s - loss: 1.2416 - accuracy: 0.4886\n",
      "Epoch 11: saving model to model/keypoint_classifier\\keypoint_classifier.hdf5\n",
      "45/45 [==============================] - 0s 3ms/step - loss: 1.2409 - accuracy: 0.4883 - val_loss: 0.9478 - val_accuracy: 0.6829\n",
      "Epoch 12/1000\n",
      "37/45 [=======================>......] - ETA: 0s - loss: 1.2061 - accuracy: 0.5076\n",
      "Epoch 12: saving model to model/keypoint_classifier\\keypoint_classifier.hdf5\n",
      "45/45 [==============================] - 0s 3ms/step - loss: 1.2100 - accuracy: 0.5090 - val_loss: 0.9093 - val_accuracy: 0.6882\n",
      "Epoch 13/1000\n",
      "36/45 [=======================>......] - ETA: 0s - loss: 1.2006 - accuracy: 0.5056\n",
      "Epoch 13: saving model to model/keypoint_classifier\\keypoint_classifier.hdf5\n",
      "45/45 [==============================] - 0s 3ms/step - loss: 1.1968 - accuracy: 0.5092 - val_loss: 0.8785 - val_accuracy: 0.6930\n",
      "Epoch 14/1000\n",
      "36/45 [=======================>......] - ETA: 0s - loss: 1.1514 - accuracy: 0.5273\n",
      "Epoch 14: saving model to model/keypoint_classifier\\keypoint_classifier.hdf5\n",
      "45/45 [==============================] - 0s 3ms/step - loss: 1.1554 - accuracy: 0.5274 - val_loss: 0.8482 - val_accuracy: 0.6924\n",
      "Epoch 15/1000\n",
      "36/45 [=======================>......] - ETA: 0s - loss: 1.1418 - accuracy: 0.5258\n",
      "Epoch 15: saving model to model/keypoint_classifier\\keypoint_classifier.hdf5\n",
      "45/45 [==============================] - 0s 3ms/step - loss: 1.1422 - accuracy: 0.5272 - val_loss: 0.8258 - val_accuracy: 0.7067\n",
      "Epoch 16/1000\n",
      "35/45 [======================>.......] - ETA: 0s - loss: 1.1202 - accuracy: 0.5408\n",
      "Epoch 16: saving model to model/keypoint_classifier\\keypoint_classifier.hdf5\n",
      "45/45 [==============================] - 0s 3ms/step - loss: 1.1158 - accuracy: 0.5429 - val_loss: 0.8045 - val_accuracy: 0.7110\n",
      "Epoch 17/1000\n",
      "35/45 [======================>.......] - ETA: 0s - loss: 1.1031 - accuracy: 0.5507\n",
      "Epoch 17: saving model to model/keypoint_classifier\\keypoint_classifier.hdf5\n",
      "45/45 [==============================] - 0s 3ms/step - loss: 1.1072 - accuracy: 0.5491 - val_loss: 0.7813 - val_accuracy: 0.7173\n",
      "Epoch 18/1000\n",
      "35/45 [======================>.......] - ETA: 0s - loss: 1.0917 - accuracy: 0.5520\n",
      "Epoch 18: saving model to model/keypoint_classifier\\keypoint_classifier.hdf5\n",
      "45/45 [==============================] - 0s 3ms/step - loss: 1.0906 - accuracy: 0.5524 - val_loss: 0.7587 - val_accuracy: 0.7348\n",
      "Epoch 19/1000\n",
      "38/45 [========================>.....] - ETA: 0s - loss: 1.0706 - accuracy: 0.5611\n",
      "Epoch 19: saving model to model/keypoint_classifier\\keypoint_classifier.hdf5\n",
      "45/45 [==============================] - 0s 3ms/step - loss: 1.0666 - accuracy: 0.5621 - val_loss: 0.7431 - val_accuracy: 0.7380\n",
      "Epoch 20/1000\n",
      "36/45 [=======================>......] - ETA: 0s - loss: 1.0584 - accuracy: 0.5632\n",
      "Epoch 20: saving model to model/keypoint_classifier\\keypoint_classifier.hdf5\n",
      "45/45 [==============================] - 0s 3ms/step - loss: 1.0558 - accuracy: 0.5636 - val_loss: 0.7223 - val_accuracy: 0.7522\n",
      "Epoch 21/1000\n",
      "36/45 [=======================>......] - ETA: 0s - loss: 1.0378 - accuracy: 0.5664\n",
      "Epoch 21: saving model to model/keypoint_classifier\\keypoint_classifier.hdf5\n",
      "45/45 [==============================] - 0s 3ms/step - loss: 1.0339 - accuracy: 0.5669 - val_loss: 0.7004 - val_accuracy: 0.7612\n",
      "Epoch 22/1000\n",
      "20/45 [============>.................] - ETA: 0s - loss: 1.0241 - accuracy: 0.5883\n",
      "Epoch 22: saving model to model/keypoint_classifier\\keypoint_classifier.hdf5\n",
      "45/45 [==============================] - 0s 3ms/step - loss: 1.0274 - accuracy: 0.5782 - val_loss: 0.6920 - val_accuracy: 0.7549\n",
      "Epoch 23/1000\n",
      "37/45 [=======================>......] - ETA: 0s - loss: 1.0151 - accuracy: 0.5845\n",
      "Epoch 23: saving model to model/keypoint_classifier\\keypoint_classifier.hdf5\n",
      "45/45 [==============================] - 0s 3ms/step - loss: 1.0128 - accuracy: 0.5862 - val_loss: 0.6770 - val_accuracy: 0.7750\n",
      "Epoch 24/1000\n",
      "28/45 [=================>............] - ETA: 0s - loss: 1.0047 - accuracy: 0.5851\n",
      "Epoch 24: saving model to model/keypoint_classifier\\keypoint_classifier.hdf5\n",
      "45/45 [==============================] - 0s 3ms/step - loss: 1.0021 - accuracy: 0.5915 - val_loss: 0.6574 - val_accuracy: 0.7935\n",
      "Epoch 25/1000\n",
      "32/45 [====================>.........] - ETA: 0s - loss: 1.0130 - accuracy: 0.5857\n",
      "Epoch 25: saving model to model/keypoint_classifier\\keypoint_classifier.hdf5\n",
      "45/45 [==============================] - 0s 3ms/step - loss: 1.0011 - accuracy: 0.5953 - val_loss: 0.6460 - val_accuracy: 0.7882\n",
      "Epoch 26/1000\n",
      "36/45 [=======================>......] - ETA: 0s - loss: 0.9664 - accuracy: 0.6079\n",
      "Epoch 26: saving model to model/keypoint_classifier\\keypoint_classifier.hdf5\n",
      "45/45 [==============================] - 0s 3ms/step - loss: 0.9733 - accuracy: 0.6043 - val_loss: 0.6234 - val_accuracy: 0.8057\n",
      "Epoch 27/1000\n",
      "36/45 [=======================>......] - ETA: 0s - loss: 0.9659 - accuracy: 0.6107\n",
      "Epoch 27: saving model to model/keypoint_classifier\\keypoint_classifier.hdf5\n",
      "45/45 [==============================] - 0s 3ms/step - loss: 0.9775 - accuracy: 0.6063 - val_loss: 0.6236 - val_accuracy: 0.8057\n",
      "Epoch 28/1000\n",
      "36/45 [=======================>......] - ETA: 0s - loss: 0.9603 - accuracy: 0.6083\n",
      "Epoch 28: saving model to model/keypoint_classifier\\keypoint_classifier.hdf5\n",
      "45/45 [==============================] - 0s 3ms/step - loss: 0.9566 - accuracy: 0.6075 - val_loss: 0.6147 - val_accuracy: 0.8142\n",
      "Epoch 29/1000\n",
      "28/45 [=================>............] - ETA: 0s - loss: 0.9511 - accuracy: 0.6222\n",
      "Epoch 29: saving model to model/keypoint_classifier\\keypoint_classifier.hdf5\n",
      "45/45 [==============================] - 0s 3ms/step - loss: 0.9504 - accuracy: 0.6216 - val_loss: 0.5993 - val_accuracy: 0.8147\n",
      "Epoch 30/1000\n",
      "34/45 [=====================>........] - ETA: 0s - loss: 0.9726 - accuracy: 0.6045\n",
      "Epoch 30: saving model to model/keypoint_classifier\\keypoint_classifier.hdf5\n",
      "45/45 [==============================] - 0s 3ms/step - loss: 0.9602 - accuracy: 0.6139 - val_loss: 0.6012 - val_accuracy: 0.8137\n",
      "Epoch 31/1000\n",
      "27/45 [=================>............] - ETA: 0s - loss: 0.9367 - accuracy: 0.6152\n",
      "Epoch 31: saving model to model/keypoint_classifier\\keypoint_classifier.hdf5\n",
      "45/45 [==============================] - 0s 3ms/step - loss: 0.9340 - accuracy: 0.6195 - val_loss: 0.5882 - val_accuracy: 0.8269\n",
      "Epoch 32/1000\n",
      "37/45 [=======================>......] - ETA: 0s - loss: 0.9296 - accuracy: 0.6250\n",
      "Epoch 32: saving model to model/keypoint_classifier\\keypoint_classifier.hdf5\n",
      "45/45 [==============================] - 0s 3ms/step - loss: 0.9272 - accuracy: 0.6255 - val_loss: 0.5758 - val_accuracy: 0.8248\n",
      "Epoch 33/1000\n",
      "36/45 [=======================>......] - ETA: 0s - loss: 0.9407 - accuracy: 0.6265\n",
      "Epoch 33: saving model to model/keypoint_classifier\\keypoint_classifier.hdf5\n",
      "45/45 [==============================] - 0s 3ms/step - loss: 0.9309 - accuracy: 0.6259 - val_loss: 0.5652 - val_accuracy: 0.8295\n",
      "Epoch 34/1000\n",
      "35/45 [======================>.......] - ETA: 0s - loss: 0.9216 - accuracy: 0.6417\n",
      "Epoch 34: saving model to model/keypoint_classifier\\keypoint_classifier.hdf5\n",
      "45/45 [==============================] - 0s 3ms/step - loss: 0.9188 - accuracy: 0.6416 - val_loss: 0.5509 - val_accuracy: 0.8465\n",
      "Epoch 35/1000\n",
      "36/45 [=======================>......] - ETA: 0s - loss: 0.9160 - accuracy: 0.6359\n",
      "Epoch 35: saving model to model/keypoint_classifier\\keypoint_classifier.hdf5\n",
      "45/45 [==============================] - 0s 3ms/step - loss: 0.9198 - accuracy: 0.6310 - val_loss: 0.5520 - val_accuracy: 0.8375\n",
      "Epoch 36/1000\n",
      "37/45 [=======================>......] - ETA: 0s - loss: 0.9263 - accuracy: 0.6360\n",
      "Epoch 36: saving model to model/keypoint_classifier\\keypoint_classifier.hdf5\n",
      "45/45 [==============================] - 0s 3ms/step - loss: 0.9281 - accuracy: 0.6342 - val_loss: 0.5450 - val_accuracy: 0.8497\n",
      "Epoch 37/1000\n",
      "37/45 [=======================>......] - ETA: 0s - loss: 0.9087 - accuracy: 0.6381\n",
      "Epoch 37: saving model to model/keypoint_classifier\\keypoint_classifier.hdf5\n",
      "45/45 [==============================] - 0s 3ms/step - loss: 0.9063 - accuracy: 0.6414 - val_loss: 0.5381 - val_accuracy: 0.8597\n",
      "Epoch 38/1000\n",
      "35/45 [======================>.......] - ETA: 0s - loss: 0.9076 - accuracy: 0.6460\n",
      "Epoch 38: saving model to model/keypoint_classifier\\keypoint_classifier.hdf5\n",
      "45/45 [==============================] - 0s 3ms/step - loss: 0.9061 - accuracy: 0.6437 - val_loss: 0.5372 - val_accuracy: 0.8518\n",
      "Epoch 39/1000\n",
      "35/45 [======================>.......] - ETA: 0s - loss: 0.8979 - accuracy: 0.6529\n",
      "Epoch 39: saving model to model/keypoint_classifier\\keypoint_classifier.hdf5\n",
      "45/45 [==============================] - 0s 3ms/step - loss: 0.8950 - accuracy: 0.6529 - val_loss: 0.5220 - val_accuracy: 0.8592\n",
      "Epoch 40/1000\n",
      "38/45 [========================>.....] - ETA: 0s - loss: 0.8961 - accuracy: 0.6482\n",
      "Epoch 40: saving model to model/keypoint_classifier\\keypoint_classifier.hdf5\n",
      "45/45 [==============================] - 0s 3ms/step - loss: 0.8997 - accuracy: 0.6462 - val_loss: 0.5175 - val_accuracy: 0.8624\n",
      "Epoch 41/1000\n",
      "31/45 [===================>..........] - ETA: 0s - loss: 0.8771 - accuracy: 0.6598\n",
      "Epoch 41: saving model to model/keypoint_classifier\\keypoint_classifier.hdf5\n",
      "45/45 [==============================] - 0s 3ms/step - loss: 0.8882 - accuracy: 0.6547 - val_loss: 0.5170 - val_accuracy: 0.8502\n",
      "Epoch 42/1000\n",
      "34/45 [=====================>........] - ETA: 0s - loss: 0.8854 - accuracy: 0.6468\n",
      "Epoch 42: saving model to model/keypoint_classifier\\keypoint_classifier.hdf5\n",
      "45/45 [==============================] - 0s 3ms/step - loss: 0.8836 - accuracy: 0.6480 - val_loss: 0.5080 - val_accuracy: 0.8650\n",
      "Epoch 43/1000\n",
      "36/45 [=======================>......] - ETA: 0s - loss: 0.8837 - accuracy: 0.6534\n",
      "Epoch 43: saving model to model/keypoint_classifier\\keypoint_classifier.hdf5\n",
      "45/45 [==============================] - 0s 3ms/step - loss: 0.8763 - accuracy: 0.6591 - val_loss: 0.5005 - val_accuracy: 0.8666\n",
      "Epoch 44/1000\n",
      "35/45 [======================>.......] - ETA: 0s - loss: 0.8518 - accuracy: 0.6643\n",
      "Epoch 44: saving model to model/keypoint_classifier\\keypoint_classifier.hdf5\n",
      "45/45 [==============================] - 0s 3ms/step - loss: 0.8530 - accuracy: 0.6644 - val_loss: 0.4951 - val_accuracy: 0.8629\n",
      "Epoch 45/1000\n",
      "35/45 [======================>.......] - ETA: 0s - loss: 0.8727 - accuracy: 0.6547\n",
      "Epoch 45: saving model to model/keypoint_classifier\\keypoint_classifier.hdf5\n",
      "45/45 [==============================] - 0s 3ms/step - loss: 0.8662 - accuracy: 0.6564 - val_loss: 0.4914 - val_accuracy: 0.8714\n",
      "Epoch 46/1000\n",
      "36/45 [=======================>......] - ETA: 0s - loss: 0.8678 - accuracy: 0.6578\n",
      "Epoch 46: saving model to model/keypoint_classifier\\keypoint_classifier.hdf5\n",
      "45/45 [==============================] - 0s 3ms/step - loss: 0.8752 - accuracy: 0.6559 - val_loss: 0.4890 - val_accuracy: 0.8677\n",
      "Epoch 47/1000\n",
      "36/45 [=======================>......] - ETA: 0s - loss: 0.8647 - accuracy: 0.6597\n",
      "Epoch 47: saving model to model/keypoint_classifier\\keypoint_classifier.hdf5\n",
      "45/45 [==============================] - 0s 3ms/step - loss: 0.8613 - accuracy: 0.6637 - val_loss: 0.4839 - val_accuracy: 0.8661\n",
      "Epoch 48/1000\n",
      "38/45 [========================>.....] - ETA: 0s - loss: 0.8794 - accuracy: 0.6525\n",
      "Epoch 48: saving model to model/keypoint_classifier\\keypoint_classifier.hdf5\n",
      "45/45 [==============================] - 0s 3ms/step - loss: 0.8736 - accuracy: 0.6580 - val_loss: 0.4831 - val_accuracy: 0.8703\n",
      "Epoch 49/1000\n",
      "23/45 [==============>...............] - ETA: 0s - loss: 0.8324 - accuracy: 0.6814\n",
      "Epoch 49: saving model to model/keypoint_classifier\\keypoint_classifier.hdf5\n",
      "45/45 [==============================] - 0s 3ms/step - loss: 0.8480 - accuracy: 0.6734 - val_loss: 0.4732 - val_accuracy: 0.8767\n",
      "Epoch 50/1000\n",
      "36/45 [=======================>......] - ETA: 0s - loss: 0.8210 - accuracy: 0.6834\n",
      "Epoch 50: saving model to model/keypoint_classifier\\keypoint_classifier.hdf5\n",
      "45/45 [==============================] - 0s 3ms/step - loss: 0.8323 - accuracy: 0.6767 - val_loss: 0.4728 - val_accuracy: 0.8682\n",
      "Epoch 51/1000\n",
      "37/45 [=======================>......] - ETA: 0s - loss: 0.8523 - accuracy: 0.6620\n",
      "Epoch 51: saving model to model/keypoint_classifier\\keypoint_classifier.hdf5\n",
      "45/45 [==============================] - 0s 3ms/step - loss: 0.8490 - accuracy: 0.6614 - val_loss: 0.4666 - val_accuracy: 0.8687\n",
      "Epoch 52/1000\n",
      "39/45 [=========================>....] - ETA: 0s - loss: 0.8446 - accuracy: 0.6817\n",
      "Epoch 52: saving model to model/keypoint_classifier\\keypoint_classifier.hdf5\n",
      "45/45 [==============================] - 0s 3ms/step - loss: 0.8433 - accuracy: 0.6817 - val_loss: 0.4550 - val_accuracy: 0.8851\n",
      "Epoch 53/1000\n",
      "35/45 [======================>.......] - ETA: 0s - loss: 0.8545 - accuracy: 0.6717\n",
      "Epoch 53: saving model to model/keypoint_classifier\\keypoint_classifier.hdf5\n",
      "45/45 [==============================] - 0s 3ms/step - loss: 0.8446 - accuracy: 0.6737 - val_loss: 0.4539 - val_accuracy: 0.8819\n",
      "Epoch 54/1000\n",
      "35/45 [======================>.......] - ETA: 0s - loss: 0.8309 - accuracy: 0.6808\n",
      "Epoch 54: saving model to model/keypoint_classifier\\keypoint_classifier.hdf5\n",
      "45/45 [==============================] - 0s 3ms/step - loss: 0.8322 - accuracy: 0.6810 - val_loss: 0.4590 - val_accuracy: 0.8804\n",
      "Epoch 55/1000\n",
      "37/45 [=======================>......] - ETA: 0s - loss: 0.8356 - accuracy: 0.6755\n",
      "Epoch 55: saving model to model/keypoint_classifier\\keypoint_classifier.hdf5\n",
      "45/45 [==============================] - 0s 3ms/step - loss: 0.8309 - accuracy: 0.6743 - val_loss: 0.4571 - val_accuracy: 0.8756\n",
      "Epoch 56/1000\n",
      "29/45 [==================>...........] - ETA: 0s - loss: 0.8348 - accuracy: 0.6832\n",
      "Epoch 56: saving model to model/keypoint_classifier\\keypoint_classifier.hdf5\n",
      "45/45 [==============================] - 0s 3ms/step - loss: 0.8286 - accuracy: 0.6827 - val_loss: 0.4469 - val_accuracy: 0.8782\n",
      "Epoch 57/1000\n",
      "37/45 [=======================>......] - ETA: 0s - loss: 0.8188 - accuracy: 0.6917\n",
      "Epoch 57: saving model to model/keypoint_classifier\\keypoint_classifier.hdf5\n",
      "45/45 [==============================] - 0s 3ms/step - loss: 0.8170 - accuracy: 0.6907 - val_loss: 0.4346 - val_accuracy: 0.8835\n",
      "Epoch 58/1000\n",
      "37/45 [=======================>......] - ETA: 0s - loss: 0.8289 - accuracy: 0.6818\n",
      "Epoch 58: saving model to model/keypoint_classifier\\keypoint_classifier.hdf5\n",
      "45/45 [==============================] - 0s 3ms/step - loss: 0.8313 - accuracy: 0.6803 - val_loss: 0.4385 - val_accuracy: 0.8857\n",
      "Epoch 59/1000\n",
      "34/45 [=====================>........] - ETA: 0s - loss: 0.8160 - accuracy: 0.6972\n",
      "Epoch 59: saving model to model/keypoint_classifier\\keypoint_classifier.hdf5\n",
      "45/45 [==============================] - 0s 3ms/step - loss: 0.8146 - accuracy: 0.6914 - val_loss: 0.4433 - val_accuracy: 0.8841\n",
      "Epoch 60/1000\n",
      "36/45 [=======================>......] - ETA: 0s - loss: 0.8243 - accuracy: 0.6905\n",
      "Epoch 60: saving model to model/keypoint_classifier\\keypoint_classifier.hdf5\n",
      "45/45 [==============================] - 0s 3ms/step - loss: 0.8341 - accuracy: 0.6884 - val_loss: 0.4385 - val_accuracy: 0.8835\n",
      "Epoch 61/1000\n",
      "40/45 [=========================>....] - ETA: 0s - loss: 0.8068 - accuracy: 0.6908\n",
      "Epoch 61: saving model to model/keypoint_classifier\\keypoint_classifier.hdf5\n",
      "45/45 [==============================] - 0s 3ms/step - loss: 0.8071 - accuracy: 0.6905 - val_loss: 0.4349 - val_accuracy: 0.8756\n",
      "Epoch 62/1000\n",
      "38/45 [========================>.....] - ETA: 0s - loss: 0.8292 - accuracy: 0.6873\n",
      "Epoch 62: saving model to model/keypoint_classifier\\keypoint_classifier.hdf5\n",
      "45/45 [==============================] - 0s 3ms/step - loss: 0.8248 - accuracy: 0.6886 - val_loss: 0.4322 - val_accuracy: 0.8841\n",
      "Epoch 63/1000\n",
      "34/45 [=====================>........] - ETA: 0s - loss: 0.8034 - accuracy: 0.6985\n",
      "Epoch 63: saving model to model/keypoint_classifier\\keypoint_classifier.hdf5\n",
      "45/45 [==============================] - 0s 3ms/step - loss: 0.7969 - accuracy: 0.6999 - val_loss: 0.4280 - val_accuracy: 0.8931\n",
      "Epoch 64/1000\n",
      "28/45 [=================>............] - ETA: 0s - loss: 0.7909 - accuracy: 0.7056\n",
      "Epoch 64: saving model to model/keypoint_classifier\\keypoint_classifier.hdf5\n",
      "45/45 [==============================] - 0s 3ms/step - loss: 0.7914 - accuracy: 0.7064 - val_loss: 0.4163 - val_accuracy: 0.8888\n",
      "Epoch 65/1000\n",
      "40/45 [=========================>....] - ETA: 0s - loss: 0.8160 - accuracy: 0.6814\n",
      "Epoch 65: saving model to model/keypoint_classifier\\keypoint_classifier.hdf5\n",
      "45/45 [==============================] - 0s 3ms/step - loss: 0.8109 - accuracy: 0.6852 - val_loss: 0.4229 - val_accuracy: 0.8804\n",
      "Epoch 66/1000\n",
      "35/45 [======================>.......] - ETA: 0s - loss: 0.8182 - accuracy: 0.6790\n",
      "Epoch 66: saving model to model/keypoint_classifier\\keypoint_classifier.hdf5\n",
      "45/45 [==============================] - 0s 3ms/step - loss: 0.8124 - accuracy: 0.6820 - val_loss: 0.4227 - val_accuracy: 0.8819\n",
      "Epoch 67/1000\n",
      "36/45 [=======================>......] - ETA: 0s - loss: 0.8145 - accuracy: 0.6929\n",
      "Epoch 67: saving model to model/keypoint_classifier\\keypoint_classifier.hdf5\n",
      "45/45 [==============================] - 0s 3ms/step - loss: 0.8110 - accuracy: 0.6912 - val_loss: 0.4153 - val_accuracy: 0.8957\n",
      "Epoch 68/1000\n",
      "35/45 [======================>.......] - ETA: 0s - loss: 0.8299 - accuracy: 0.6810\n",
      "Epoch 68: saving model to model/keypoint_classifier\\keypoint_classifier.hdf5\n",
      "45/45 [==============================] - 0s 3ms/step - loss: 0.8185 - accuracy: 0.6852 - val_loss: 0.4210 - val_accuracy: 0.8851\n",
      "Epoch 69/1000\n",
      "34/45 [=====================>........] - ETA: 0s - loss: 0.7960 - accuracy: 0.6923\n",
      "Epoch 69: saving model to model/keypoint_classifier\\keypoint_classifier.hdf5\n",
      "45/45 [==============================] - 0s 3ms/step - loss: 0.8094 - accuracy: 0.6900 - val_loss: 0.4129 - val_accuracy: 0.8888\n",
      "Epoch 70/1000\n",
      "31/45 [===================>..........] - ETA: 0s - loss: 0.8126 - accuracy: 0.6885\n",
      "Epoch 70: saving model to model/keypoint_classifier\\keypoint_classifier.hdf5\n",
      "45/45 [==============================] - 0s 3ms/step - loss: 0.7949 - accuracy: 0.6990 - val_loss: 0.4119 - val_accuracy: 0.8968\n",
      "Epoch 71/1000\n",
      "32/45 [====================>.........] - ETA: 0s - loss: 0.8019 - accuracy: 0.6990\n",
      "Epoch 71: saving model to model/keypoint_classifier\\keypoint_classifier.hdf5\n",
      "45/45 [==============================] - 0s 3ms/step - loss: 0.8000 - accuracy: 0.6921 - val_loss: 0.4129 - val_accuracy: 0.8872\n",
      "Epoch 72/1000\n",
      "37/45 [=======================>......] - ETA: 0s - loss: 0.7920 - accuracy: 0.7063\n",
      "Epoch 72: saving model to model/keypoint_classifier\\keypoint_classifier.hdf5\n",
      "45/45 [==============================] - 0s 3ms/step - loss: 0.7946 - accuracy: 0.7030 - val_loss: 0.4109 - val_accuracy: 0.8920\n",
      "Epoch 73/1000\n",
      "40/45 [=========================>....] - ETA: 0s - loss: 0.7861 - accuracy: 0.7033\n",
      "Epoch 73: saving model to model/keypoint_classifier\\keypoint_classifier.hdf5\n",
      "45/45 [==============================] - 0s 3ms/step - loss: 0.7842 - accuracy: 0.7037 - val_loss: 0.4025 - val_accuracy: 0.9005\n",
      "Epoch 74/1000\n",
      "21/45 [=============>................] - ETA: 0s - loss: 0.7943 - accuracy: 0.6886\n",
      "Epoch 74: saving model to model/keypoint_classifier\\keypoint_classifier.hdf5\n",
      "45/45 [==============================] - 0s 3ms/step - loss: 0.7925 - accuracy: 0.6919 - val_loss: 0.4065 - val_accuracy: 0.8989\n",
      "Epoch 75/1000\n",
      "37/45 [=======================>......] - ETA: 0s - loss: 0.7907 - accuracy: 0.7067\n",
      "Epoch 75: saving model to model/keypoint_classifier\\keypoint_classifier.hdf5\n",
      "45/45 [==============================] - 0s 3ms/step - loss: 0.7857 - accuracy: 0.7083 - val_loss: 0.4032 - val_accuracy: 0.8909\n",
      "Epoch 76/1000\n",
      "39/45 [=========================>....] - ETA: 0s - loss: 0.7914 - accuracy: 0.6989\n",
      "Epoch 76: saving model to model/keypoint_classifier\\keypoint_classifier.hdf5\n",
      "45/45 [==============================] - 0s 3ms/step - loss: 0.7931 - accuracy: 0.6983 - val_loss: 0.4074 - val_accuracy: 0.8878\n",
      "Epoch 77/1000\n",
      "34/45 [=====================>........] - ETA: 0s - loss: 0.7964 - accuracy: 0.7063\n",
      "Epoch 77: saving model to model/keypoint_classifier\\keypoint_classifier.hdf5\n",
      "45/45 [==============================] - 0s 3ms/step - loss: 0.7902 - accuracy: 0.7076 - val_loss: 0.3985 - val_accuracy: 0.9005\n",
      "Epoch 78/1000\n",
      "36/45 [=======================>......] - ETA: 0s - loss: 0.7885 - accuracy: 0.6962\n",
      "Epoch 78: saving model to model/keypoint_classifier\\keypoint_classifier.hdf5\n",
      "45/45 [==============================] - 0s 3ms/step - loss: 0.7889 - accuracy: 0.7013 - val_loss: 0.4125 - val_accuracy: 0.8772\n",
      "Epoch 79/1000\n",
      "36/45 [=======================>......] - ETA: 0s - loss: 0.7830 - accuracy: 0.7003\n",
      "Epoch 79: saving model to model/keypoint_classifier\\keypoint_classifier.hdf5\n",
      "45/45 [==============================] - 0s 3ms/step - loss: 0.7909 - accuracy: 0.6997 - val_loss: 0.4032 - val_accuracy: 0.8931\n",
      "Epoch 80/1000\n",
      "38/45 [========================>.....] - ETA: 0s - loss: 0.7838 - accuracy: 0.6972\n",
      "Epoch 80: saving model to model/keypoint_classifier\\keypoint_classifier.hdf5\n",
      "45/45 [==============================] - 0s 3ms/step - loss: 0.7822 - accuracy: 0.6979 - val_loss: 0.3928 - val_accuracy: 0.9052\n",
      "Epoch 81/1000\n",
      "31/45 [===================>..........] - ETA: 0s - loss: 0.7863 - accuracy: 0.6973\n",
      "Epoch 81: saving model to model/keypoint_classifier\\keypoint_classifier.hdf5\n",
      "45/45 [==============================] - 0s 3ms/step - loss: 0.7959 - accuracy: 0.6942 - val_loss: 0.3971 - val_accuracy: 0.8994\n",
      "Epoch 82/1000\n",
      "38/45 [========================>.....] - ETA: 0s - loss: 0.7859 - accuracy: 0.7011\n",
      "Epoch 82: saving model to model/keypoint_classifier\\keypoint_classifier.hdf5\n",
      "45/45 [==============================] - 0s 3ms/step - loss: 0.7919 - accuracy: 0.7000 - val_loss: 0.3948 - val_accuracy: 0.9021\n",
      "Epoch 83/1000\n",
      "35/45 [======================>.......] - ETA: 0s - loss: 0.7860 - accuracy: 0.7067\n",
      "Epoch 83: saving model to model/keypoint_classifier\\keypoint_classifier.hdf5\n",
      "45/45 [==============================] - 0s 3ms/step - loss: 0.7799 - accuracy: 0.7078 - val_loss: 0.3950 - val_accuracy: 0.9005\n",
      "Epoch 84/1000\n",
      "35/45 [======================>.......] - ETA: 0s - loss: 0.7710 - accuracy: 0.7183\n",
      "Epoch 84: saving model to model/keypoint_classifier\\keypoint_classifier.hdf5\n",
      "45/45 [==============================] - 0s 3ms/step - loss: 0.7777 - accuracy: 0.7150 - val_loss: 0.3897 - val_accuracy: 0.8999\n",
      "Epoch 85/1000\n",
      "35/45 [======================>.......] - ETA: 0s - loss: 0.7754 - accuracy: 0.7083\n",
      "Epoch 85: saving model to model/keypoint_classifier\\keypoint_classifier.hdf5\n",
      "45/45 [==============================] - 0s 3ms/step - loss: 0.7783 - accuracy: 0.7082 - val_loss: 0.3918 - val_accuracy: 0.8989\n",
      "Epoch 86/1000\n",
      "37/45 [=======================>......] - ETA: 0s - loss: 0.7664 - accuracy: 0.7166\n",
      "Epoch 86: saving model to model/keypoint_classifier\\keypoint_classifier.hdf5\n",
      "45/45 [==============================] - 0s 3ms/step - loss: 0.7693 - accuracy: 0.7168 - val_loss: 0.3898 - val_accuracy: 0.9074\n",
      "Epoch 87/1000\n",
      "34/45 [=====================>........] - ETA: 0s - loss: 0.7671 - accuracy: 0.7112\n",
      "Epoch 87: saving model to model/keypoint_classifier\\keypoint_classifier.hdf5\n",
      "45/45 [==============================] - 0s 3ms/step - loss: 0.7617 - accuracy: 0.7129 - val_loss: 0.3837 - val_accuracy: 0.9084\n",
      "Epoch 88/1000\n",
      "35/45 [======================>.......] - ETA: 0s - loss: 0.7774 - accuracy: 0.7125\n",
      "Epoch 88: saving model to model/keypoint_classifier\\keypoint_classifier.hdf5\n",
      "45/45 [==============================] - 0s 3ms/step - loss: 0.7706 - accuracy: 0.7108 - val_loss: 0.3901 - val_accuracy: 0.9068\n",
      "Epoch 89/1000\n",
      "35/45 [======================>.......] - ETA: 0s - loss: 0.7696 - accuracy: 0.7047\n",
      "Epoch 89: saving model to model/keypoint_classifier\\keypoint_classifier.hdf5\n",
      "45/45 [==============================] - 0s 3ms/step - loss: 0.7707 - accuracy: 0.7089 - val_loss: 0.3833 - val_accuracy: 0.9031\n",
      "Epoch 90/1000\n",
      "34/45 [=====================>........] - ETA: 0s - loss: 0.7445 - accuracy: 0.7155\n",
      "Epoch 90: saving model to model/keypoint_classifier\\keypoint_classifier.hdf5\n",
      "45/45 [==============================] - 0s 3ms/step - loss: 0.7535 - accuracy: 0.7131 - val_loss: 0.3833 - val_accuracy: 0.8989\n",
      "Epoch 91/1000\n",
      "38/45 [========================>.....] - ETA: 0s - loss: 0.7684 - accuracy: 0.7099\n",
      "Epoch 91: saving model to model/keypoint_classifier\\keypoint_classifier.hdf5\n",
      "45/45 [==============================] - 0s 3ms/step - loss: 0.7679 - accuracy: 0.7087 - val_loss: 0.3795 - val_accuracy: 0.9058\n",
      "Epoch 92/1000\n",
      "36/45 [=======================>......] - ETA: 0s - loss: 0.7816 - accuracy: 0.7055\n",
      "Epoch 92: saving model to model/keypoint_classifier\\keypoint_classifier.hdf5\n",
      "45/45 [==============================] - 0s 3ms/step - loss: 0.7757 - accuracy: 0.7087 - val_loss: 0.3771 - val_accuracy: 0.9116\n",
      "Epoch 93/1000\n",
      "39/45 [=========================>....] - ETA: 0s - loss: 0.7683 - accuracy: 0.7218\n",
      "Epoch 93: saving model to model/keypoint_classifier\\keypoint_classifier.hdf5\n",
      "45/45 [==============================] - 0s 3ms/step - loss: 0.7749 - accuracy: 0.7195 - val_loss: 0.3815 - val_accuracy: 0.9100\n",
      "Epoch 94/1000\n",
      "36/45 [=======================>......] - ETA: 0s - loss: 0.7691 - accuracy: 0.7161\n",
      "Epoch 94: saving model to model/keypoint_classifier\\keypoint_classifier.hdf5\n",
      "45/45 [==============================] - 0s 3ms/step - loss: 0.7627 - accuracy: 0.7191 - val_loss: 0.3850 - val_accuracy: 0.9015\n",
      "Epoch 95/1000\n",
      "37/45 [=======================>......] - ETA: 0s - loss: 0.7737 - accuracy: 0.7059\n",
      "Epoch 95: saving model to model/keypoint_classifier\\keypoint_classifier.hdf5\n",
      "45/45 [==============================] - 0s 3ms/step - loss: 0.7634 - accuracy: 0.7117 - val_loss: 0.3790 - val_accuracy: 0.9111\n",
      "Epoch 96/1000\n",
      "37/45 [=======================>......] - ETA: 0s - loss: 0.7664 - accuracy: 0.7171\n",
      "Epoch 96: saving model to model/keypoint_classifier\\keypoint_classifier.hdf5\n",
      "45/45 [==============================] - 0s 3ms/step - loss: 0.7608 - accuracy: 0.7195 - val_loss: 0.3783 - val_accuracy: 0.9111\n",
      "Epoch 97/1000\n",
      "33/45 [=====================>........] - ETA: 0s - loss: 0.7560 - accuracy: 0.7166\n",
      "Epoch 97: saving model to model/keypoint_classifier\\keypoint_classifier.hdf5\n",
      "45/45 [==============================] - 0s 3ms/step - loss: 0.7611 - accuracy: 0.7157 - val_loss: 0.3875 - val_accuracy: 0.8952\n",
      "Epoch 98/1000\n",
      "38/45 [========================>.....] - ETA: 0s - loss: 0.7706 - accuracy: 0.7039\n",
      "Epoch 98: saving model to model/keypoint_classifier\\keypoint_classifier.hdf5\n",
      "45/45 [==============================] - 0s 3ms/step - loss: 0.7641 - accuracy: 0.7069 - val_loss: 0.3818 - val_accuracy: 0.9074\n",
      "Epoch 99/1000\n",
      "37/45 [=======================>......] - ETA: 0s - loss: 0.7433 - accuracy: 0.7217\n",
      "Epoch 99: saving model to model/keypoint_classifier\\keypoint_classifier.hdf5\n",
      "45/45 [==============================] - 0s 3ms/step - loss: 0.7472 - accuracy: 0.7226 - val_loss: 0.3682 - val_accuracy: 0.9132\n",
      "Epoch 100/1000\n",
      "34/45 [=====================>........] - ETA: 0s - loss: 0.7567 - accuracy: 0.7208\n",
      "Epoch 100: saving model to model/keypoint_classifier\\keypoint_classifier.hdf5\n",
      "45/45 [==============================] - 0s 3ms/step - loss: 0.7596 - accuracy: 0.7170 - val_loss: 0.3665 - val_accuracy: 0.9068\n",
      "Epoch 101/1000\n",
      "39/45 [=========================>....] - ETA: 0s - loss: 0.7624 - accuracy: 0.7188\n",
      "Epoch 101: saving model to model/keypoint_classifier\\keypoint_classifier.hdf5\n",
      "45/45 [==============================] - 0s 3ms/step - loss: 0.7650 - accuracy: 0.7152 - val_loss: 0.3767 - val_accuracy: 0.9037\n",
      "Epoch 102/1000\n",
      "32/45 [====================>.........] - ETA: 0s - loss: 0.7780 - accuracy: 0.7065\n",
      "Epoch 102: saving model to model/keypoint_classifier\\keypoint_classifier.hdf5\n",
      "45/45 [==============================] - 0s 3ms/step - loss: 0.7744 - accuracy: 0.7103 - val_loss: 0.3804 - val_accuracy: 0.9042\n",
      "Epoch 103/1000\n",
      "37/45 [=======================>......] - ETA: 0s - loss: 0.7645 - accuracy: 0.7116\n",
      "Epoch 103: saving model to model/keypoint_classifier\\keypoint_classifier.hdf5\n",
      "45/45 [==============================] - 0s 3ms/step - loss: 0.7659 - accuracy: 0.7110 - val_loss: 0.3725 - val_accuracy: 0.9068\n",
      "Epoch 104/1000\n",
      "40/45 [=========================>....] - ETA: 0s - loss: 0.7719 - accuracy: 0.7094\n",
      "Epoch 104: saving model to model/keypoint_classifier\\keypoint_classifier.hdf5\n",
      "45/45 [==============================] - 0s 3ms/step - loss: 0.7702 - accuracy: 0.7097 - val_loss: 0.3793 - val_accuracy: 0.9100\n",
      "Epoch 105/1000\n",
      "34/45 [=====================>........] - ETA: 0s - loss: 0.7673 - accuracy: 0.7155\n",
      "Epoch 105: saving model to model/keypoint_classifier\\keypoint_classifier.hdf5\n",
      "45/45 [==============================] - 0s 3ms/step - loss: 0.7639 - accuracy: 0.7157 - val_loss: 0.3924 - val_accuracy: 0.8947\n",
      "Epoch 106/1000\n",
      "28/45 [=================>............] - ETA: 0s - loss: 0.7619 - accuracy: 0.7076\n",
      "Epoch 106: saving model to model/keypoint_classifier\\keypoint_classifier.hdf5\n",
      "45/45 [==============================] - 0s 3ms/step - loss: 0.7524 - accuracy: 0.7170 - val_loss: 0.3724 - val_accuracy: 0.9105\n",
      "Epoch 107/1000\n",
      "35/45 [======================>.......] - ETA: 0s - loss: 0.7600 - accuracy: 0.7176\n",
      "Epoch 107: saving model to model/keypoint_classifier\\keypoint_classifier.hdf5\n",
      "45/45 [==============================] - 0s 3ms/step - loss: 0.7634 - accuracy: 0.7179 - val_loss: 0.3748 - val_accuracy: 0.9021\n",
      "Epoch 108/1000\n",
      "36/45 [=======================>......] - ETA: 0s - loss: 0.7335 - accuracy: 0.7294\n",
      "Epoch 108: saving model to model/keypoint_classifier\\keypoint_classifier.hdf5\n",
      "45/45 [==============================] - 0s 3ms/step - loss: 0.7345 - accuracy: 0.7248 - val_loss: 0.3712 - val_accuracy: 0.9010\n",
      "Epoch 109/1000\n",
      "35/45 [======================>.......] - ETA: 0s - loss: 0.7349 - accuracy: 0.7214\n",
      "Epoch 109: saving model to model/keypoint_classifier\\keypoint_classifier.hdf5\n",
      "45/45 [==============================] - 0s 3ms/step - loss: 0.7463 - accuracy: 0.7182 - val_loss: 0.3676 - val_accuracy: 0.9105\n",
      "Epoch 110/1000\n",
      "32/45 [====================>.........] - ETA: 0s - loss: 0.7373 - accuracy: 0.7297\n",
      "Epoch 110: saving model to model/keypoint_classifier\\keypoint_classifier.hdf5\n",
      "45/45 [==============================] - 0s 3ms/step - loss: 0.7416 - accuracy: 0.7285 - val_loss: 0.3617 - val_accuracy: 0.9079\n",
      "Epoch 111/1000\n",
      "35/45 [======================>.......] - ETA: 0s - loss: 0.7384 - accuracy: 0.7199\n",
      "Epoch 111: saving model to model/keypoint_classifier\\keypoint_classifier.hdf5\n",
      "45/45 [==============================] - 0s 3ms/step - loss: 0.7430 - accuracy: 0.7226 - val_loss: 0.3660 - val_accuracy: 0.9084\n",
      "Epoch 112/1000\n",
      "37/45 [=======================>......] - ETA: 0s - loss: 0.7335 - accuracy: 0.7321\n",
      "Epoch 112: saving model to model/keypoint_classifier\\keypoint_classifier.hdf5\n",
      "45/45 [==============================] - 0s 3ms/step - loss: 0.7370 - accuracy: 0.7315 - val_loss: 0.3561 - val_accuracy: 0.9148\n",
      "Epoch 113/1000\n",
      "37/45 [=======================>......] - ETA: 0s - loss: 0.7543 - accuracy: 0.7228\n",
      "Epoch 113: saving model to model/keypoint_classifier\\keypoint_classifier.hdf5\n",
      "45/45 [==============================] - 0s 3ms/step - loss: 0.7468 - accuracy: 0.7240 - val_loss: 0.3692 - val_accuracy: 0.9111\n",
      "Epoch 114/1000\n",
      "37/45 [=======================>......] - ETA: 0s - loss: 0.7497 - accuracy: 0.7200\n",
      "Epoch 114: saving model to model/keypoint_classifier\\keypoint_classifier.hdf5\n",
      "45/45 [==============================] - 0s 3ms/step - loss: 0.7506 - accuracy: 0.7168 - val_loss: 0.3674 - val_accuracy: 0.9127\n",
      "Epoch 115/1000\n",
      "35/45 [======================>.......] - ETA: 0s - loss: 0.7540 - accuracy: 0.7083\n",
      "Epoch 115: saving model to model/keypoint_classifier\\keypoint_classifier.hdf5\n",
      "45/45 [==============================] - 0s 3ms/step - loss: 0.7494 - accuracy: 0.7112 - val_loss: 0.3716 - val_accuracy: 0.9037\n",
      "Epoch 116/1000\n",
      "37/45 [=======================>......] - ETA: 0s - loss: 0.7252 - accuracy: 0.7257\n",
      "Epoch 116: saving model to model/keypoint_classifier\\keypoint_classifier.hdf5\n",
      "45/45 [==============================] - 0s 3ms/step - loss: 0.7220 - accuracy: 0.7283 - val_loss: 0.3660 - val_accuracy: 0.9026\n",
      "Epoch 117/1000\n",
      "35/45 [======================>.......] - ETA: 0s - loss: 0.7283 - accuracy: 0.7299\n",
      "Epoch 117: saving model to model/keypoint_classifier\\keypoint_classifier.hdf5\n",
      "45/45 [==============================] - 0s 3ms/step - loss: 0.7311 - accuracy: 0.7302 - val_loss: 0.3603 - val_accuracy: 0.9164\n",
      "Epoch 118/1000\n",
      "30/45 [===================>..........] - ETA: 0s - loss: 0.7424 - accuracy: 0.7260\n",
      "Epoch 118: saving model to model/keypoint_classifier\\keypoint_classifier.hdf5\n",
      "45/45 [==============================] - 0s 3ms/step - loss: 0.7414 - accuracy: 0.7281 - val_loss: 0.3543 - val_accuracy: 0.9201\n",
      "Epoch 119/1000\n",
      "31/45 [===================>..........] - ETA: 0s - loss: 0.7436 - accuracy: 0.7281\n",
      "Epoch 119: saving model to model/keypoint_classifier\\keypoint_classifier.hdf5\n",
      "45/45 [==============================] - 0s 3ms/step - loss: 0.7367 - accuracy: 0.7262 - val_loss: 0.3598 - val_accuracy: 0.9116\n",
      "Epoch 120/1000\n",
      "36/45 [=======================>......] - ETA: 0s - loss: 0.7195 - accuracy: 0.7359\n",
      "Epoch 120: saving model to model/keypoint_classifier\\keypoint_classifier.hdf5\n",
      "45/45 [==============================] - 0s 3ms/step - loss: 0.7141 - accuracy: 0.7371 - val_loss: 0.3664 - val_accuracy: 0.9021\n",
      "Epoch 121/1000\n",
      "35/45 [======================>.......] - ETA: 0s - loss: 0.7315 - accuracy: 0.7377\n",
      "Epoch 121: saving model to model/keypoint_classifier\\keypoint_classifier.hdf5\n",
      "45/45 [==============================] - 0s 3ms/step - loss: 0.7300 - accuracy: 0.7396 - val_loss: 0.3588 - val_accuracy: 0.9137\n",
      "Epoch 122/1000\n",
      "31/45 [===================>..........] - ETA: 0s - loss: 0.7208 - accuracy: 0.7283\n",
      "Epoch 122: saving model to model/keypoint_classifier\\keypoint_classifier.hdf5\n",
      "45/45 [==============================] - 0s 3ms/step - loss: 0.7232 - accuracy: 0.7308 - val_loss: 0.3550 - val_accuracy: 0.9142\n",
      "Epoch 123/1000\n",
      "37/45 [=======================>......] - ETA: 0s - loss: 0.7373 - accuracy: 0.7196\n",
      "Epoch 123: saving model to model/keypoint_classifier\\keypoint_classifier.hdf5\n",
      "45/45 [==============================] - 0s 3ms/step - loss: 0.7354 - accuracy: 0.7184 - val_loss: 0.3656 - val_accuracy: 0.9015\n",
      "Epoch 124/1000\n",
      "37/45 [=======================>......] - ETA: 0s - loss: 0.7375 - accuracy: 0.7247\n",
      "Epoch 124: saving model to model/keypoint_classifier\\keypoint_classifier.hdf5\n",
      "45/45 [==============================] - 0s 3ms/step - loss: 0.7445 - accuracy: 0.7232 - val_loss: 0.3644 - val_accuracy: 0.9111\n",
      "Epoch 125/1000\n",
      "38/45 [========================>.....] - ETA: 0s - loss: 0.7380 - accuracy: 0.7255\n",
      "Epoch 125: saving model to model/keypoint_classifier\\keypoint_classifier.hdf5\n",
      "45/45 [==============================] - 0s 3ms/step - loss: 0.7282 - accuracy: 0.7299 - val_loss: 0.3663 - val_accuracy: 0.9100\n",
      "Epoch 126/1000\n",
      "29/45 [==================>...........] - ETA: 0s - loss: 0.7483 - accuracy: 0.7266\n",
      "Epoch 126: saving model to model/keypoint_classifier\\keypoint_classifier.hdf5\n",
      "45/45 [==============================] - 0s 3ms/step - loss: 0.7383 - accuracy: 0.7253 - val_loss: 0.3683 - val_accuracy: 0.9100\n",
      "Epoch 127/1000\n",
      "33/45 [=====================>........] - ETA: 0s - loss: 0.7419 - accuracy: 0.7180\n",
      "Epoch 127: saving model to model/keypoint_classifier\\keypoint_classifier.hdf5\n",
      "45/45 [==============================] - 0s 3ms/step - loss: 0.7414 - accuracy: 0.7233 - val_loss: 0.3760 - val_accuracy: 0.9015\n",
      "Epoch 128/1000\n",
      "39/45 [=========================>....] - ETA: 0s - loss: 0.7122 - accuracy: 0.7358\n",
      "Epoch 128: saving model to model/keypoint_classifier\\keypoint_classifier.hdf5\n",
      "45/45 [==============================] - 0s 3ms/step - loss: 0.7185 - accuracy: 0.7339 - val_loss: 0.3522 - val_accuracy: 0.9179\n",
      "Epoch 129/1000\n",
      "28/45 [=================>............] - ETA: 0s - loss: 0.7423 - accuracy: 0.7227\n",
      "Epoch 129: saving model to model/keypoint_classifier\\keypoint_classifier.hdf5\n",
      "45/45 [==============================] - 0s 3ms/step - loss: 0.7433 - accuracy: 0.7210 - val_loss: 0.3689 - val_accuracy: 0.9132\n",
      "Epoch 130/1000\n",
      "36/45 [=======================>......] - ETA: 0s - loss: 0.7300 - accuracy: 0.7329\n",
      "Epoch 130: saving model to model/keypoint_classifier\\keypoint_classifier.hdf5\n",
      "45/45 [==============================] - 0s 3ms/step - loss: 0.7355 - accuracy: 0.7304 - val_loss: 0.3666 - val_accuracy: 0.9084\n",
      "Epoch 131/1000\n",
      "38/45 [========================>.....] - ETA: 0s - loss: 0.7142 - accuracy: 0.7364\n",
      "Epoch 131: saving model to model/keypoint_classifier\\keypoint_classifier.hdf5\n",
      "45/45 [==============================] - 0s 3ms/step - loss: 0.7136 - accuracy: 0.7359 - val_loss: 0.3589 - val_accuracy: 0.9031\n",
      "Epoch 132/1000\n",
      "32/45 [====================>.........] - ETA: 0s - loss: 0.7420 - accuracy: 0.7332\n",
      "Epoch 132: saving model to model/keypoint_classifier\\keypoint_classifier.hdf5\n",
      "45/45 [==============================] - 0s 3ms/step - loss: 0.7412 - accuracy: 0.7256 - val_loss: 0.3713 - val_accuracy: 0.9031\n",
      "Epoch 133/1000\n",
      "39/45 [=========================>....] - ETA: 0s - loss: 0.7067 - accuracy: 0.7396\n",
      "Epoch 133: saving model to model/keypoint_classifier\\keypoint_classifier.hdf5\n",
      "45/45 [==============================] - 0s 3ms/step - loss: 0.7125 - accuracy: 0.7417 - val_loss: 0.3559 - val_accuracy: 0.9063\n",
      "Epoch 134/1000\n",
      "34/45 [=====================>........] - ETA: 0s - loss: 0.7379 - accuracy: 0.7261\n",
      "Epoch 134: saving model to model/keypoint_classifier\\keypoint_classifier.hdf5\n",
      "45/45 [==============================] - 0s 3ms/step - loss: 0.7384 - accuracy: 0.7235 - val_loss: 0.3559 - val_accuracy: 0.9148\n",
      "Epoch 135/1000\n",
      "31/45 [===================>..........] - ETA: 0s - loss: 0.7258 - accuracy: 0.7311\n",
      "Epoch 135: saving model to model/keypoint_classifier\\keypoint_classifier.hdf5\n",
      "45/45 [==============================] - 0s 3ms/step - loss: 0.7236 - accuracy: 0.7320 - val_loss: 0.3639 - val_accuracy: 0.9089\n",
      "Epoch 136/1000\n",
      "28/45 [=================>............] - ETA: 0s - loss: 0.7200 - accuracy: 0.7397\n",
      "Epoch 136: saving model to model/keypoint_classifier\\keypoint_classifier.hdf5\n",
      "45/45 [==============================] - 0s 3ms/step - loss: 0.7170 - accuracy: 0.7376 - val_loss: 0.3572 - val_accuracy: 0.9190\n",
      "Epoch 137/1000\n",
      "36/45 [=======================>......] - ETA: 0s - loss: 0.7192 - accuracy: 0.7361\n",
      "Epoch 137: saving model to model/keypoint_classifier\\keypoint_classifier.hdf5\n",
      "45/45 [==============================] - 0s 3ms/step - loss: 0.7269 - accuracy: 0.7357 - val_loss: 0.3674 - val_accuracy: 0.8968\n",
      "Epoch 138/1000\n",
      "35/45 [======================>.......] - ETA: 0s - loss: 0.7105 - accuracy: 0.7422\n",
      "Epoch 138: saving model to model/keypoint_classifier\\keypoint_classifier.hdf5\n",
      "45/45 [==============================] - 0s 3ms/step - loss: 0.7207 - accuracy: 0.7375 - val_loss: 0.3605 - val_accuracy: 0.9142\n",
      "Epoch 139/1000\n",
      "36/45 [=======================>......] - ETA: 0s - loss: 0.7393 - accuracy: 0.7246\n",
      "Epoch 139: saving model to model/keypoint_classifier\\keypoint_classifier.hdf5\n",
      "45/45 [==============================] - 0s 3ms/step - loss: 0.7303 - accuracy: 0.7253 - val_loss: 0.3541 - val_accuracy: 0.9084\n",
      "Epoch 140/1000\n",
      "31/45 [===================>..........] - ETA: 0s - loss: 0.7418 - accuracy: 0.7298\n",
      "Epoch 140: saving model to model/keypoint_classifier\\keypoint_classifier.hdf5\n",
      "45/45 [==============================] - 0s 3ms/step - loss: 0.7340 - accuracy: 0.7313 - val_loss: 0.3562 - val_accuracy: 0.9127\n",
      "Epoch 141/1000\n",
      "36/45 [=======================>......] - ETA: 0s - loss: 0.7192 - accuracy: 0.7357\n",
      "Epoch 141: saving model to model/keypoint_classifier\\keypoint_classifier.hdf5\n",
      "45/45 [==============================] - 0s 3ms/step - loss: 0.7162 - accuracy: 0.7371 - val_loss: 0.3573 - val_accuracy: 0.9100\n",
      "Epoch 142/1000\n",
      "37/45 [=======================>......] - ETA: 0s - loss: 0.7518 - accuracy: 0.7213\n",
      "Epoch 142: saving model to model/keypoint_classifier\\keypoint_classifier.hdf5\n",
      "45/45 [==============================] - 0s 3ms/step - loss: 0.7408 - accuracy: 0.7237 - val_loss: 0.3617 - val_accuracy: 0.9068\n",
      "Epoch 143/1000\n",
      "38/45 [========================>.....] - ETA: 0s - loss: 0.7083 - accuracy: 0.7389\n",
      "Epoch 143: saving model to model/keypoint_classifier\\keypoint_classifier.hdf5\n",
      "45/45 [==============================] - 0s 3ms/step - loss: 0.7085 - accuracy: 0.7383 - val_loss: 0.3484 - val_accuracy: 0.9211\n",
      "Epoch 144/1000\n",
      "36/45 [=======================>......] - ETA: 0s - loss: 0.7238 - accuracy: 0.7177\n",
      "Epoch 144: saving model to model/keypoint_classifier\\keypoint_classifier.hdf5\n",
      "45/45 [==============================] - 0s 3ms/step - loss: 0.7213 - accuracy: 0.7228 - val_loss: 0.3673 - val_accuracy: 0.9095\n",
      "Epoch 145/1000\n",
      "24/45 [===============>..............] - ETA: 0s - loss: 0.7291 - accuracy: 0.7337\n",
      "Epoch 145: saving model to model/keypoint_classifier\\keypoint_classifier.hdf5\n",
      "45/45 [==============================] - 0s 3ms/step - loss: 0.7155 - accuracy: 0.7405 - val_loss: 0.3544 - val_accuracy: 0.9132\n",
      "Epoch 146/1000\n",
      "33/45 [=====================>........] - ETA: 0s - loss: 0.7141 - accuracy: 0.7332\n",
      "Epoch 146: saving model to model/keypoint_classifier\\keypoint_classifier.hdf5\n",
      "45/45 [==============================] - 0s 3ms/step - loss: 0.7193 - accuracy: 0.7290 - val_loss: 0.3472 - val_accuracy: 0.9164\n",
      "Epoch 147/1000\n",
      "40/45 [=========================>....] - ETA: 0s - loss: 0.7356 - accuracy: 0.7291\n",
      "Epoch 147: saving model to model/keypoint_classifier\\keypoint_classifier.hdf5\n",
      "45/45 [==============================] - 0s 2ms/step - loss: 0.7326 - accuracy: 0.7327 - val_loss: 0.3701 - val_accuracy: 0.9127\n",
      "Epoch 148/1000\n",
      "36/45 [=======================>......] - ETA: 0s - loss: 0.7060 - accuracy: 0.7385\n",
      "Epoch 148: saving model to model/keypoint_classifier\\keypoint_classifier.hdf5\n",
      "45/45 [==============================] - 0s 3ms/step - loss: 0.7051 - accuracy: 0.7394 - val_loss: 0.3628 - val_accuracy: 0.9015\n",
      "Epoch 149/1000\n",
      "37/45 [=======================>......] - ETA: 0s - loss: 0.7213 - accuracy: 0.7291\n",
      "Epoch 149: saving model to model/keypoint_classifier\\keypoint_classifier.hdf5\n",
      "45/45 [==============================] - 0s 3ms/step - loss: 0.7200 - accuracy: 0.7322 - val_loss: 0.3542 - val_accuracy: 0.9148\n",
      "Epoch 150/1000\n",
      "38/45 [========================>.....] - ETA: 0s - loss: 0.6970 - accuracy: 0.7449\n",
      "Epoch 150: saving model to model/keypoint_classifier\\keypoint_classifier.hdf5\n",
      "45/45 [==============================] - 0s 3ms/step - loss: 0.6980 - accuracy: 0.7475 - val_loss: 0.3510 - val_accuracy: 0.9079\n",
      "Epoch 151/1000\n",
      "37/45 [=======================>......] - ETA: 0s - loss: 0.7144 - accuracy: 0.7382\n",
      "Epoch 151: saving model to model/keypoint_classifier\\keypoint_classifier.hdf5\n",
      "45/45 [==============================] - 0s 3ms/step - loss: 0.7127 - accuracy: 0.7378 - val_loss: 0.3505 - val_accuracy: 0.9148\n",
      "Epoch 152/1000\n",
      "39/45 [=========================>....] - ETA: 0s - loss: 0.6896 - accuracy: 0.7410\n",
      "Epoch 152: saving model to model/keypoint_classifier\\keypoint_classifier.hdf5\n",
      "45/45 [==============================] - 0s 3ms/step - loss: 0.6884 - accuracy: 0.7429 - val_loss: 0.3460 - val_accuracy: 0.9100\n",
      "Epoch 153/1000\n",
      "36/45 [=======================>......] - ETA: 0s - loss: 0.7228 - accuracy: 0.7300\n",
      "Epoch 153: saving model to model/keypoint_classifier\\keypoint_classifier.hdf5\n",
      "45/45 [==============================] - 0s 3ms/step - loss: 0.7197 - accuracy: 0.7311 - val_loss: 0.3603 - val_accuracy: 0.9058\n",
      "Epoch 154/1000\n",
      "28/45 [=================>............] - ETA: 0s - loss: 0.7272 - accuracy: 0.7232\n",
      "Epoch 154: saving model to model/keypoint_classifier\\keypoint_classifier.hdf5\n",
      "45/45 [==============================] - 0s 3ms/step - loss: 0.7223 - accuracy: 0.7286 - val_loss: 0.3504 - val_accuracy: 0.9137\n",
      "Epoch 155/1000\n",
      "35/45 [======================>.......] - ETA: 0s - loss: 0.7352 - accuracy: 0.7299\n",
      "Epoch 155: saving model to model/keypoint_classifier\\keypoint_classifier.hdf5\n",
      "45/45 [==============================] - 0s 3ms/step - loss: 0.7344 - accuracy: 0.7304 - val_loss: 0.3598 - val_accuracy: 0.9116\n",
      "Epoch 156/1000\n",
      "38/45 [========================>.....] - ETA: 0s - loss: 0.7181 - accuracy: 0.7327\n",
      "Epoch 156: saving model to model/keypoint_classifier\\keypoint_classifier.hdf5\n",
      "45/45 [==============================] - 0s 3ms/step - loss: 0.7163 - accuracy: 0.7355 - val_loss: 0.3611 - val_accuracy: 0.9021\n",
      "Epoch 157/1000\n",
      "39/45 [=========================>....] - ETA: 0s - loss: 0.6963 - accuracy: 0.7416\n",
      "Epoch 157: saving model to model/keypoint_classifier\\keypoint_classifier.hdf5\n",
      "45/45 [==============================] - 0s 3ms/step - loss: 0.6978 - accuracy: 0.7436 - val_loss: 0.3471 - val_accuracy: 0.9190\n",
      "Epoch 158/1000\n",
      "38/45 [========================>.....] - ETA: 0s - loss: 0.7025 - accuracy: 0.7469\n",
      "Epoch 158: saving model to model/keypoint_classifier\\keypoint_classifier.hdf5\n",
      "45/45 [==============================] - 0s 3ms/step - loss: 0.6979 - accuracy: 0.7486 - val_loss: 0.3493 - val_accuracy: 0.9148\n",
      "Epoch 159/1000\n",
      "38/45 [========================>.....] - ETA: 0s - loss: 0.7022 - accuracy: 0.7407\n",
      "Epoch 159: saving model to model/keypoint_classifier\\keypoint_classifier.hdf5\n",
      "45/45 [==============================] - 0s 3ms/step - loss: 0.7005 - accuracy: 0.7412 - val_loss: 0.3448 - val_accuracy: 0.9169\n",
      "Epoch 160/1000\n",
      "24/45 [===============>..............] - ETA: 0s - loss: 0.7170 - accuracy: 0.7334\n",
      "Epoch 160: saving model to model/keypoint_classifier\\keypoint_classifier.hdf5\n",
      "45/45 [==============================] - 0s 3ms/step - loss: 0.7117 - accuracy: 0.7422 - val_loss: 0.3562 - val_accuracy: 0.9089\n",
      "Epoch 161/1000\n",
      "31/45 [===================>..........] - ETA: 0s - loss: 0.7323 - accuracy: 0.7215\n",
      "Epoch 161: saving model to model/keypoint_classifier\\keypoint_classifier.hdf5\n",
      "45/45 [==============================] - 0s 3ms/step - loss: 0.7312 - accuracy: 0.7251 - val_loss: 0.3609 - val_accuracy: 0.9052\n",
      "Epoch 162/1000\n",
      "40/45 [=========================>....] - ETA: 0s - loss: 0.7006 - accuracy: 0.7477\n",
      "Epoch 162: saving model to model/keypoint_classifier\\keypoint_classifier.hdf5\n",
      "45/45 [==============================] - 0s 3ms/step - loss: 0.7021 - accuracy: 0.7465 - val_loss: 0.3484 - val_accuracy: 0.9169\n",
      "Epoch 163/1000\n",
      "33/45 [=====================>........] - ETA: 0s - loss: 0.7204 - accuracy: 0.7389\n",
      "Epoch 163: saving model to model/keypoint_classifier\\keypoint_classifier.hdf5\n",
      "45/45 [==============================] - 0s 3ms/step - loss: 0.7152 - accuracy: 0.7369 - val_loss: 0.3367 - val_accuracy: 0.9232\n",
      "Epoch 164/1000\n",
      "35/45 [======================>.......] - ETA: 0s - loss: 0.7027 - accuracy: 0.7353\n",
      "Epoch 164: saving model to model/keypoint_classifier\\keypoint_classifier.hdf5\n",
      "45/45 [==============================] - 0s 3ms/step - loss: 0.7093 - accuracy: 0.7350 - val_loss: 0.3560 - val_accuracy: 0.9089\n",
      "Epoch 165/1000\n",
      "35/45 [======================>.......] - ETA: 0s - loss: 0.7142 - accuracy: 0.7357\n",
      "Epoch 165: saving model to model/keypoint_classifier\\keypoint_classifier.hdf5\n",
      "45/45 [==============================] - 0s 3ms/step - loss: 0.7055 - accuracy: 0.7391 - val_loss: 0.3617 - val_accuracy: 0.9021\n",
      "Epoch 166/1000\n",
      "35/45 [======================>.......] - ETA: 0s - loss: 0.7013 - accuracy: 0.7437\n",
      "Epoch 166: saving model to model/keypoint_classifier\\keypoint_classifier.hdf5\n",
      "45/45 [==============================] - 0s 3ms/step - loss: 0.6991 - accuracy: 0.7408 - val_loss: 0.3575 - val_accuracy: 0.9111\n",
      "Epoch 167/1000\n",
      "37/45 [=======================>......] - ETA: 0s - loss: 0.7164 - accuracy: 0.7278\n",
      "Epoch 167: saving model to model/keypoint_classifier\\keypoint_classifier.hdf5\n",
      "45/45 [==============================] - 0s 3ms/step - loss: 0.7117 - accuracy: 0.7297 - val_loss: 0.3571 - val_accuracy: 0.9058\n",
      "Epoch 168/1000\n",
      "35/45 [======================>.......] - ETA: 0s - loss: 0.7024 - accuracy: 0.7393\n",
      "Epoch 168: saving model to model/keypoint_classifier\\keypoint_classifier.hdf5\n",
      "45/45 [==============================] - 0s 3ms/step - loss: 0.7012 - accuracy: 0.7406 - val_loss: 0.3624 - val_accuracy: 0.9026\n",
      "Epoch 169/1000\n",
      "39/45 [=========================>....] - ETA: 0s - loss: 0.7004 - accuracy: 0.7420\n",
      "Epoch 169: saving model to model/keypoint_classifier\\keypoint_classifier.hdf5\n",
      "45/45 [==============================] - 0s 3ms/step - loss: 0.6976 - accuracy: 0.7421 - val_loss: 0.3611 - val_accuracy: 0.9052\n",
      "Epoch 170/1000\n",
      "37/45 [=======================>......] - ETA: 0s - loss: 0.6890 - accuracy: 0.7451\n",
      "Epoch 170: saving model to model/keypoint_classifier\\keypoint_classifier.hdf5\n",
      "45/45 [==============================] - 0s 3ms/step - loss: 0.6908 - accuracy: 0.7456 - val_loss: 0.3504 - val_accuracy: 0.9074\n",
      "Epoch 171/1000\n",
      "37/45 [=======================>......] - ETA: 0s - loss: 0.6929 - accuracy: 0.7441\n",
      "Epoch 171: saving model to model/keypoint_classifier\\keypoint_classifier.hdf5\n",
      "45/45 [==============================] - 0s 3ms/step - loss: 0.6971 - accuracy: 0.7412 - val_loss: 0.3465 - val_accuracy: 0.9068\n",
      "Epoch 172/1000\n",
      "36/45 [=======================>......] - ETA: 0s - loss: 0.7103 - accuracy: 0.7418\n",
      "Epoch 172: saving model to model/keypoint_classifier\\keypoint_classifier.hdf5\n",
      "45/45 [==============================] - 0s 3ms/step - loss: 0.7036 - accuracy: 0.7408 - val_loss: 0.3393 - val_accuracy: 0.9148\n",
      "Epoch 173/1000\n",
      "29/45 [==================>...........] - ETA: 0s - loss: 0.7061 - accuracy: 0.7381\n",
      "Epoch 173: saving model to model/keypoint_classifier\\keypoint_classifier.hdf5\n",
      "45/45 [==============================] - 0s 3ms/step - loss: 0.7051 - accuracy: 0.7401 - val_loss: 0.3668 - val_accuracy: 0.8962\n",
      "Epoch 174/1000\n",
      "35/45 [======================>.......] - ETA: 0s - loss: 0.7068 - accuracy: 0.7321\n",
      "Epoch 174: saving model to model/keypoint_classifier\\keypoint_classifier.hdf5\n",
      "45/45 [==============================] - 0s 3ms/step - loss: 0.7042 - accuracy: 0.7308 - val_loss: 0.3432 - val_accuracy: 0.9201\n",
      "Epoch 175/1000\n",
      "36/45 [=======================>......] - ETA: 0s - loss: 0.6950 - accuracy: 0.7513\n",
      "Epoch 175: saving model to model/keypoint_classifier\\keypoint_classifier.hdf5\n",
      "45/45 [==============================] - 0s 3ms/step - loss: 0.6976 - accuracy: 0.7484 - val_loss: 0.3511 - val_accuracy: 0.9058\n",
      "Epoch 176/1000\n",
      "35/45 [======================>.......] - ETA: 0s - loss: 0.7009 - accuracy: 0.7471\n",
      "Epoch 176: saving model to model/keypoint_classifier\\keypoint_classifier.hdf5\n",
      "45/45 [==============================] - 0s 3ms/step - loss: 0.6926 - accuracy: 0.7475 - val_loss: 0.3488 - val_accuracy: 0.9137\n",
      "Epoch 177/1000\n",
      "36/45 [=======================>......] - ETA: 0s - loss: 0.7220 - accuracy: 0.7331\n",
      "Epoch 177: saving model to model/keypoint_classifier\\keypoint_classifier.hdf5\n",
      "45/45 [==============================] - 0s 3ms/step - loss: 0.7150 - accuracy: 0.7341 - val_loss: 0.3678 - val_accuracy: 0.8962\n",
      "Epoch 178/1000\n",
      "38/45 [========================>.....] - ETA: 0s - loss: 0.6952 - accuracy: 0.7403\n",
      "Epoch 178: saving model to model/keypoint_classifier\\keypoint_classifier.hdf5\n",
      "45/45 [==============================] - 0s 3ms/step - loss: 0.6973 - accuracy: 0.7373 - val_loss: 0.3491 - val_accuracy: 0.9084\n",
      "Epoch 179/1000\n",
      "38/45 [========================>.....] - ETA: 0s - loss: 0.7063 - accuracy: 0.7510\n",
      "Epoch 179: saving model to model/keypoint_classifier\\keypoint_classifier.hdf5\n",
      "45/45 [==============================] - 0s 3ms/step - loss: 0.7037 - accuracy: 0.7509 - val_loss: 0.3643 - val_accuracy: 0.9005\n",
      "Epoch 180/1000\n",
      "35/45 [======================>.......] - ETA: 0s - loss: 0.6962 - accuracy: 0.7491\n",
      "Epoch 180: saving model to model/keypoint_classifier\\keypoint_classifier.hdf5\n",
      "45/45 [==============================] - 0s 3ms/step - loss: 0.6917 - accuracy: 0.7518 - val_loss: 0.3424 - val_accuracy: 0.9169\n",
      "Epoch 181/1000\n",
      "35/45 [======================>.......] - ETA: 0s - loss: 0.6946 - accuracy: 0.7417\n",
      "Epoch 181: saving model to model/keypoint_classifier\\keypoint_classifier.hdf5\n",
      "45/45 [==============================] - 0s 3ms/step - loss: 0.6904 - accuracy: 0.7452 - val_loss: 0.3568 - val_accuracy: 0.9084\n",
      "Epoch 182/1000\n",
      "37/45 [=======================>......] - ETA: 0s - loss: 0.6917 - accuracy: 0.7426\n",
      "Epoch 182: saving model to model/keypoint_classifier\\keypoint_classifier.hdf5\n",
      "45/45 [==============================] - 0s 3ms/step - loss: 0.6944 - accuracy: 0.7435 - val_loss: 0.3663 - val_accuracy: 0.8999\n",
      "Epoch 183/1000\n",
      "35/45 [======================>.......] - ETA: 0s - loss: 0.7116 - accuracy: 0.7342\n",
      "Epoch 183: saving model to model/keypoint_classifier\\keypoint_classifier.hdf5\n",
      "45/45 [==============================] - 0s 3ms/step - loss: 0.7043 - accuracy: 0.7348 - val_loss: 0.3617 - val_accuracy: 0.9105\n",
      "Epoch 183: early stopping\n"
     ]
    },
    {
     "data": {
      "text/plain": [
       "<keras.callbacks.History at 0x1b4dfe2a8f0>"
      ]
     },
     "execution_count": 90,
     "metadata": {},
     "output_type": "execute_result"
    }
   ],
   "source": [
    "model.fit(\n",
    "    X_train,\n",
    "    y_train,\n",
    "    epochs=1000,\n",
    "    batch_size=128,\n",
    "    validation_data=(X_test, y_test),\n",
    "    callbacks=[cp_callback, es_callback]\n",
    ")"
   ]
  },
  {
   "cell_type": "code",
   "execution_count": 91,
   "metadata": {
    "colab": {
     "base_uri": "https://localhost:8080/"
    },
    "id": "pxvb2Y299hE3",
    "outputId": "59eb3185-2e37-4b9e-bc9d-ab1b8ac29b7f"
   },
   "outputs": [
    {
     "name": "stdout",
     "output_type": "stream",
     "text": [
      "15/15 [==============================] - 0s 2ms/step - loss: 0.3617 - accuracy: 0.9105\n"
     ]
    }
   ],
   "source": [
    "# Model evaluation\n",
    "val_loss, val_acc = model.evaluate(X_test, y_test, batch_size=128)"
   ]
  },
  {
   "cell_type": "code",
   "execution_count": 92,
   "metadata": {
    "id": "RBkmDeUW9hE4"
   },
   "outputs": [],
   "source": [
    "# Loading the saved model\n",
    "model = tf.keras.models.load_model(model_save_path)"
   ]
  },
  {
   "cell_type": "code",
   "execution_count": 93,
   "metadata": {
    "colab": {
     "base_uri": "https://localhost:8080/"
    },
    "id": "tFz9Tb0I9hE4",
    "outputId": "1c3b3528-54ae-4ee2-ab04-77429211cbef"
   },
   "outputs": [
    {
     "name": "stdout",
     "output_type": "stream",
     "text": [
      "1/1 [==============================] - 0s 43ms/step\n",
      "[6.6418409e-01 4.5210958e-02 1.5120564e-05 3.5862502e-02 9.3301095e-02\n",
      " 1.5979603e-01 3.2765357e-13 1.6297856e-03 3.4371160e-07]\n",
      "0\n"
     ]
    }
   ],
   "source": [
    "# Inference test\n",
    "predict_result = model.predict(np.array([X_test[0]]))\n",
    "print(np.squeeze(predict_result))\n",
    "print(np.argmax(np.squeeze(predict_result)))"
   ]
  },
  {
   "cell_type": "markdown",
   "metadata": {
    "id": "S3U4yNWx9hE4"
   },
   "source": [
    "# Confusion matrix"
   ]
  },
  {
   "cell_type": "code",
   "execution_count": 94,
   "metadata": {
    "colab": {
     "base_uri": "https://localhost:8080/",
     "height": 582
    },
    "id": "AP1V6SCk9hE5",
    "outputId": "08e41a80-7a4a-4619-8125-ecc371368d19"
   },
   "outputs": [
    {
     "name": "stdout",
     "output_type": "stream",
     "text": [
      "60/60 [==============================] - 0s 760us/step\n"
     ]
    },
    {
     "data": {
      "image/png": "[encoded data removed]",
      "text/plain": [
       "<Figure size 700x600 with 2 Axes>"
      ]
     },
     "metadata": {},
     "output_type": "display_data"
    },
    {
     "name": "stdout",
     "output_type": "stream",
     "text": [
      "Classification Report\n",
      "              precision    recall  f1-score   support\n",
      "\n",
      "           0       0.97      0.84      0.90       567\n",
      "           1       0.99      0.84      0.91       385\n",
      "           2       0.83      0.98      0.90       321\n",
      "           3       0.78      0.99      0.87       162\n",
      "           4       0.96      0.90      0.93        52\n",
      "           5       0.94      0.98      0.96       103\n",
      "           6       0.93      1.00      0.97        98\n",
      "           7       0.84      0.98      0.91       118\n",
      "           8       0.99      1.00      0.99        83\n",
      "\n",
      "    accuracy                           0.91      1889\n",
      "   macro avg       0.91      0.95      0.93      1889\n",
      "weighted avg       0.92      0.91      0.91      1889\n",
      "\n"
     ]
    }
   ],
   "source": [
    "import pandas as pd\n",
    "import seaborn as sns\n",
    "import matplotlib.pyplot as plt\n",
    "from sklearn.metrics import confusion_matrix, classification_report\n",
    "\n",
    "def print_confusion_matrix(y_true, y_pred, report=True):\n",
    "    labels = sorted(list(set(y_true)))\n",
    "    cmx_data = confusion_matrix(y_true, y_pred, labels=labels)\n",
    "    \n",
    "    df_cmx = pd.DataFrame(cmx_data, index=labels, columns=labels)\n",
    " \n",
    "    fig, ax = plt.subplots(figsize=(7, 6))\n",
    "    sns.heatmap(df_cmx, annot=True, fmt='g' ,square=False)\n",
    "    ax.set_ylim(len(set(y_true)), 0)\n",
    "    plt.show()\n",
    "    \n",
    "    if report:\n",
    "        print('Classification Report')\n",
    "        print(classification_report(y_test, y_pred))\n",
    "\n",
    "Y_pred = model.predict(X_test)\n",
    "y_pred = np.argmax(Y_pred, axis=1)\n",
    "\n",
    "print_confusion_matrix(y_test, y_pred)"
   ]
  },
  {
   "cell_type": "markdown",
   "metadata": {
    "id": "FNP6aqzc9hE5"
   },
   "source": [
    "# Convert to model for Tensorflow-Lite"
   ]
  },
  {
   "cell_type": "code",
   "execution_count": 95,
   "metadata": {
    "id": "ODjnYyld9hE6"
   },
   "outputs": [],
   "source": [
    "# Save as a model dedicated to inference\n",
    "model.save(model_save_path, include_optimizer=False)"
   ]
  },
  {
   "cell_type": "code",
   "execution_count": 96,
   "metadata": {
    "colab": {
     "base_uri": "https://localhost:8080/"
    },
    "id": "zRfuK8Y59hE6",
    "outputId": "a4ca585c-b5d5-4244-8291-8674063209bb"
   },
   "outputs": [
    {
     "name": "stderr",
     "output_type": "stream",
     "text": [
      "WARNING:absl:Found untraced functions such as _update_step_xla while saving (showing 1 of 1). These functions will not be directly callable after loading.\n"
     ]
    },
    {
     "name": "stdout",
     "output_type": "stream",
     "text": [
      "INFO:tensorflow:Assets written to: C:\\Users\\JUSTIN~1\\AppData\\Local\\Temp\\tmp394g4n_o\\assets\n"
     ]
    },
    {
     "name": "stderr",
     "output_type": "stream",
     "text": [
      "INFO:tensorflow:Assets written to: C:\\Users\\JUSTIN~1\\AppData\\Local\\Temp\\tmp394g4n_o\\assets\n"
     ]
    },
    {
     "data": {
      "text/plain": [
       "6828"
      ]
     },
     "execution_count": 96,
     "metadata": {},
     "output_type": "execute_result"
    }
   ],
   "source": [
    "# Transform model (quantization)\n",
    "\n",
    "converter = tf.lite.TFLiteConverter.from_keras_model(model)\n",
    "converter.optimizations = [tf.lite.Optimize.DEFAULT]\n",
    "tflite_quantized_model = converter.convert()\n",
    "\n",
    "open(tflite_save_path, 'wb').write(tflite_quantized_model)"
   ]
  },
  {
   "cell_type": "markdown",
   "metadata": {
    "id": "CHBPBXdx9hE6"
   },
   "source": [
    "# Inference test"
   ]
  },
  {
   "cell_type": "code",
   "execution_count": 97,
   "metadata": {
    "id": "mGAzLocO9hE7"
   },
   "outputs": [],
   "source": [
    "interpreter = tf.lite.Interpreter(model_path=tflite_save_path)\n",
    "interpreter.allocate_tensors()"
   ]
  },
  {
   "cell_type": "code",
   "execution_count": 98,
   "metadata": {
    "id": "oQuDK8YS9hE7"
   },
   "outputs": [],
   "source": [
    "# Get I / O tensor\n",
    "input_details = interpreter.get_input_details()\n",
    "output_details = interpreter.get_output_details()"
   ]
  },
  {
   "cell_type": "code",
   "execution_count": 99,
   "metadata": {
    "id": "2_ixAf_l9hE7"
   },
   "outputs": [],
   "source": [
    "interpreter.set_tensor(input_details[0]['index'], np.array([X_test[0]]))"
   ]
  },
  {
   "cell_type": "code",
   "execution_count": 100,
   "metadata": {
    "colab": {
     "base_uri": "https://localhost:8080/"
    },
    "id": "s4FoAnuc9hE7",
    "outputId": "91f18257-8d8b-4ef3-c558-e9b5f94fabbf",
    "scrolled": true
   },
   "outputs": [
    {
     "name": "stdout",
     "output_type": "stream",
     "text": [
      "CPU times: total: 0 ns\n",
      "Wall time: 0 ns\n"
     ]
    }
   ],
   "source": [
    "%%time\n",
    "# Inference implementation\n",
    "interpreter.invoke()\n",
    "tflite_results = interpreter.get_tensor(output_details[0]['index'])"
   ]
  },
  {
   "cell_type": "code",
   "execution_count": 101,
   "metadata": {
    "colab": {
     "base_uri": "https://localhost:8080/"
    },
    "id": "vONjp19J9hE8",
    "outputId": "77205e24-fd00-42c4-f7b6-e06e527c2cba"
   },
   "outputs": [
    {
     "name": "stdout",
     "output_type": "stream",
     "text": [
      "[6.6418415e-01 4.5210946e-02 1.5120581e-05 3.5862517e-02 9.3301095e-02\n",
      " 1.5979601e-01 3.2765484e-13 1.6297866e-03 3.4371129e-07]\n",
      "0\n"
     ]
    }
   ],
   "source": [
    "print(np.squeeze(tflite_results))\n",
    "print(np.argmax(np.squeeze(tflite_results)))"
   ]
  },
  {
   "cell_type": "code",
   "execution_count": null,
   "metadata": {},
   "outputs": [],
   "source": []
  },
  {
   "cell_type": "code",
   "execution_count": null,
   "metadata": {},
   "outputs": [],
   "source": []
  },
  {
   "cell_type": "code",
   "execution_count": null,
   "metadata": {},
   "outputs": [],
   "source": []
  },
  {
   "cell_type": "code",
   "execution_count": null,
   "metadata": {},
   "outputs": [],
   "source": []
  }
 ],
 "metadata": {
  "accelerator": "GPU",
  "colab": {
   "collapsed_sections": [],
   "name": "keypoint_classification_EN.ipynb",
   "provenance": [],
   "toc_visible": true
  },
  "kernelspec": {
   "display_name": "Python 3 (ipykernel)",
   "language": "python",
   "name": "python3"
  },
  "language_info": {
   "codemirror_mode": {
    "name": "ipython",
    "version": 3
   },
   "file_extension": ".py",
   "mimetype": "text/x-python",
   "name": "python",
   "nbconvert_exporter": "python",
   "pygments_lexer": "ipython3",
   "version": "3.10.10"
  }
 },
 "nbformat": 4,
 "nbformat_minor": 4
}
